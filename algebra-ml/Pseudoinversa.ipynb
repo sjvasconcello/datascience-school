{
 "cells": [
  {
   "cell_type": "code",
   "execution_count": 1,
   "metadata": {},
   "outputs": [],
   "source": [
    "import numpy as np\n",
    "np.set_printoptions(suppress=True)"
   ]
  },
  {
   "cell_type": "code",
   "execution_count": 2,
   "metadata": {},
   "outputs": [
    {
     "name": "stdout",
     "output_type": "stream",
     "text": [
      "[[ 2  3]\n",
      " [ 5  7]\n",
      " [11 13]]\n"
     ]
    }
   ],
   "source": [
    "A = np.array([[2,3],[5,7],[11,13]])\n",
    "print(A)"
   ]
  },
  {
   "cell_type": "code",
   "execution_count": 3,
   "metadata": {},
   "outputs": [
    {
     "name": "stdout",
     "output_type": "stream",
     "text": [
      "U \n",
      " [[-0.18499741 -0.47276624 -0.86154979]\n",
      " [-0.44249308 -0.74271297  0.50257071]\n",
      " [-0.87748267  0.4742041  -0.07179582]]\n",
      "D \n",
      " [19.40321383  0.71783924]\n",
      "V \n",
      " [[-0.63055377 -0.77614557]\n",
      " [ 0.77614557 -0.63055377]]\n"
     ]
    }
   ],
   "source": [
    "U, D, V = np.linalg.svd(A)\n",
    "print(\"U \\n\", U)\n",
    "print(\"D \\n\", D)\n",
    "print(\"V \\n\", V)"
   ]
  },
  {
   "cell_type": "code",
   "execution_count": 4,
   "metadata": {},
   "outputs": [
    {
     "name": "stdout",
     "output_type": "stream",
     "text": [
      "[[0. 0. 0.]\n",
      " [0. 0. 0.]]\n"
     ]
    }
   ],
   "source": [
    "D_pse = np.zeros((A.shape[0], A.shape[1])).T\n",
    "print(D_pse)"
   ]
  },
  {
   "cell_type": "code",
   "execution_count": 5,
   "metadata": {},
   "outputs": [
    {
     "name": "stdout",
     "output_type": "stream",
     "text": [
      "Valores a remplazar en D_pse\n",
      "[[0. 0.]\n",
      " [0. 0.]]\n"
     ]
    }
   ],
   "source": [
    "print(\"Valores a remplazar en D_pse\")\n",
    "print(D_pse[:D.shape[0], :D.shape[0]])"
   ]
  },
  {
   "cell_type": "code",
   "execution_count": 6,
   "metadata": {},
   "outputs": [
    {
     "name": "stdout",
     "output_type": "stream",
     "text": [
      "Valores que pondemos en D_pse\n",
      "[[0.05153785 0.        ]\n",
      " [0.         1.39306957]]\n"
     ]
    }
   ],
   "source": [
    "print(\"Valores que pondemos en D_pse\")\n",
    "print(np.linalg.inv(np.diag(D)))"
   ]
  },
  {
   "cell_type": "code",
   "execution_count": 7,
   "metadata": {},
   "outputs": [
    {
     "name": "stdout",
     "output_type": "stream",
     "text": [
      "D_pse\n",
      "[[0.05153785 0.         0.        ]\n",
      " [0.         1.39306957 0.        ]]\n"
     ]
    }
   ],
   "source": [
    "print(\"D_pse\")\n",
    "D_pse[:D.shape[0], :D.shape[0]] = np.linalg.inv(np.diag(D))\n",
    "print(D_pse)"
   ]
  },
  {
   "cell_type": "code",
   "execution_count": 8,
   "metadata": {},
   "outputs": [
    {
     "data": {
      "text/plain": [
       "array([[-0.50515464, -0.78865979,  0.54123711],\n",
       "       [ 0.42268041,  0.67010309, -0.3814433 ]])"
      ]
     },
     "execution_count": 8,
     "metadata": {},
     "output_type": "execute_result"
    }
   ],
   "source": [
    "A_pse = V.T.dot(D_pse).dot(U.T)\n",
    "A_pse"
   ]
  },
  {
   "cell_type": "code",
   "execution_count": 9,
   "metadata": {},
   "outputs": [
    {
     "name": "stdout",
     "output_type": "stream",
     "text": [
      "[[-0.50515464 -0.78865979  0.54123711]\n",
      " [ 0.42268041  0.67010309 -0.3814433 ]]\n"
     ]
    }
   ],
   "source": [
    "A_pse_cal = np.linalg.pinv(A)\n",
    "print(A_pse_cal)"
   ]
  },
  {
   "cell_type": "code",
   "execution_count": 10,
   "metadata": {},
   "outputs": [
    {
     "name": "stdout",
     "output_type": "stream",
     "text": [
      "[[ 1. -0.]\n",
      " [ 0.  1.]]\n"
     ]
    }
   ],
   "source": [
    "print(A_pse.dot(A))"
   ]
  },
  {
   "cell_type": "code",
   "execution_count": 11,
   "metadata": {},
   "outputs": [
    {
     "name": "stdout",
     "output_type": "stream",
     "text": [
      "[[ 1.00000000e+00 -8.88178420e-16]\n",
      " [ 2.66453526e-15  1.00000000e+00]]\n"
     ]
    }
   ],
   "source": [
    "np.set_printoptions(suppress=False)\n",
    "print(A_pse.dot(A))"
   ]
  },
  {
   "cell_type": "code",
   "execution_count": null,
   "metadata": {},
   "outputs": [],
   "source": []
  },
  {
   "cell_type": "code",
   "execution_count": 19,
   "metadata": {},
   "outputs": [
    {
     "data": {
      "text/plain": [
       "array([[1, 2],\n",
       "       [3, 4],\n",
       "       [5, 6]])"
      ]
     },
     "execution_count": 19,
     "metadata": {},
     "output_type": "execute_result"
    }
   ],
   "source": [
    "B = np.array([[1 ,2],[3 ,4],[5, 6]])\n",
    "B"
   ]
  },
  {
   "cell_type": "code",
   "execution_count": 20,
   "metadata": {},
   "outputs": [
    {
     "name": "stdout",
     "output_type": "stream",
     "text": [
      "U \n",
      " [[-0.2298477   0.88346102  0.40824829]\n",
      " [-0.52474482  0.24078249 -0.81649658]\n",
      " [-0.81964194 -0.40189603  0.40824829]]\n",
      "D \n",
      " [9.52551809 0.51430058]\n",
      "V \n",
      " [[-0.61962948 -0.78489445]\n",
      " [-0.78489445  0.61962948]]\n"
     ]
    }
   ],
   "source": [
    "U, D, V = np.linalg.svd(B)\n",
    "print(\"U \\n\", U)\n",
    "print(\"D \\n\", D)\n",
    "print(\"V \\n\", V)"
   ]
  },
  {
   "cell_type": "code",
   "execution_count": null,
   "metadata": {},
   "outputs": [],
   "source": []
  },
  {
   "cell_type": "code",
   "execution_count": null,
   "metadata": {},
   "outputs": [],
   "source": []
  }
 ],
 "metadata": {
  "kernelspec": {
   "display_name": "Python 3",
   "language": "python",
   "name": "python3"
  },
  "language_info": {
   "codemirror_mode": {
    "name": "ipython",
    "version": 3
   },
   "file_extension": ".py",
   "mimetype": "text/x-python",
   "name": "python",
   "nbconvert_exporter": "python",
   "pygments_lexer": "ipython3",
   "version": "3.8.3"
  }
 },
 "nbformat": 4,
 "nbformat_minor": 4
}
