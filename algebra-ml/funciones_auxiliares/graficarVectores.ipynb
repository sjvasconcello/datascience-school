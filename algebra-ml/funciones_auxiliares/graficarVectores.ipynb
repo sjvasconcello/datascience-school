{
 "cells": [
  {
   "cell_type": "code",
   "execution_count": 2,
   "metadata": {},
   "outputs": [],
   "source": [
    "def graficarVectores(vector, cols, alpha = 1):\n",
    "    plt.figure()\n",
    "    plt.xlim(-1,12)\n",
    "    plt.ylim(-1,12)\n",
    "    plt.axvline(x=0, color=\"grey\", zorder=0)\n",
    "    plt.axhline(y=0, color=\"grey\", zorder=0)\n",
    "    \n",
    "    for i in range(len(vector)):\n",
    "        x = np.concatenate([[0,0], vector[i]])\n",
    "        plt.quiver([x[0]],\n",
    "                  [x[1]],\n",
    "                  [x[2]],\n",
    "                  [x[3]], \n",
    "                   angles=\"xy\", \n",
    "                   scale_units=\"xy\", scale=1, color=cols[i], alpha=alpha)"
   ]
  },
  {
   "cell_type": "code",
   "execution_count": null,
   "metadata": {},
   "outputs": [],
   "source": []
  }
 ],
 "metadata": {
  "kernelspec": {
   "display_name": "Python 3",
   "language": "python",
   "name": "python3"
  },
  "language_info": {
   "codemirror_mode": {
    "name": "ipython",
    "version": 3
   },
   "file_extension": ".py",
   "mimetype": "text/x-python",
   "name": "python",
   "nbconvert_exporter": "python",
   "pygments_lexer": "ipython3",
   "version": "3.8.3"
  }
 },
 "nbformat": 4,
 "nbformat_minor": 4
}
