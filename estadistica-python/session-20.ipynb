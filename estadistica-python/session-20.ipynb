{
 "cells": [
  {
   "cell_type": "code",
   "execution_count": 3,
   "metadata": {},
   "outputs": [],
   "source": [
    "import numpy as np\n",
    "import pandas as pd\n",
    "from scipy.stats import norm"
   ]
  },
  {
   "cell_type": "code",
   "execution_count": 7,
   "metadata": {},
   "outputs": [],
   "source": [
    "muestra = [4046, 2578, 3796, 3412, 3315, 3228, 3666, \n",
    "           3877, 3154, 4062, 4365, 3776, 3761, 2587, \n",
    "           2911, 3184, 3810, 4459, 3385, 3899, 3602, \n",
    "           2701, 2821, 2790, 2557, 2540, 4119, 2712, \n",
    "           2743, 2713, 4466, 3937, 3871, 4427, 3177, \n",
    "           2556, 2903, 3522, 4155, 4010, 4453, 3080, \n",
    "           3008, 3865, 3356, 2799, 3308, 2759, 4347, \n",
    "           2576, 4075, 3333, 2936, 3746, 3334, 3940, \n",
    "           4113, 4220, 3580, 3922]\n",
    "\n",
    "alpha = 0.05"
   ]
  },
  {
   "cell_type": "code",
   "execution_count": 13,
   "metadata": {},
   "outputs": [
    {
     "data": {
      "text/plain": [
       "(-1.9599639845400545, 1.959963984540054)"
      ]
     },
     "execution_count": 13,
     "metadata": {},
     "output_type": "execute_result"
    }
   ],
   "source": [
    "lim_inf = norm.ppf(alpha/2)\n",
    "lim_sup = norm.ppf(1-(alpha/2))\n",
    "lim_inf, lim_sup"
   ]
  },
  {
   "cell_type": "code",
   "execution_count": 14,
   "metadata": {},
   "outputs": [
    {
     "data": {
      "text/plain": [
       "60"
      ]
     },
     "execution_count": 14,
     "metadata": {},
     "output_type": "execute_result"
    }
   ],
   "source": [
    "promedio = np.mean(muestra)\n",
    "desviacion = np.std(muestra)\n",
    "len(muestra)"
   ]
  },
  {
   "cell_type": "code",
   "execution_count": 15,
   "metadata": {},
   "outputs": [
    {
     "data": {
      "text/plain": [
       "(2306.73126667925, 4638.035399987416)"
      ]
     },
     "execution_count": 15,
     "metadata": {},
     "output_type": "execute_result"
    }
   ],
   "source": [
    "lim_inf = lim_inf*desviacion + promedio\n",
    "lim_sup = lim_sup*desviacion + promedio\n",
    "lim_inf, lim_sup"
   ]
  },
  {
   "cell_type": "code",
   "execution_count": null,
   "metadata": {},
   "outputs": [],
   "source": []
  },
  {
   "cell_type": "code",
   "execution_count": null,
   "metadata": {},
   "outputs": [],
   "source": []
  }
 ],
 "metadata": {
  "kernelspec": {
   "display_name": "Python 3",
   "language": "python",
   "name": "python3"
  },
  "language_info": {
   "codemirror_mode": {
    "name": "ipython",
    "version": 3
   },
   "file_extension": ".py",
   "mimetype": "text/x-python",
   "name": "python",
   "nbconvert_exporter": "python",
   "pygments_lexer": "ipython3",
   "version": "3.8.3"
  }
 },
 "nbformat": 4,
 "nbformat_minor": 4
}
