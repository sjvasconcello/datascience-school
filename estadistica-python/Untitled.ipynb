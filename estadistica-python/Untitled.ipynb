{
 "cells": [
  {
   "cell_type": "markdown",
   "metadata": {},
   "source": [
    "## Caso\n",
    "- La empresa Mustage S.A. está desarrollando una plataforma para otorgar créditos de bajo monto\n",
    "- El tiempo para completar exitosamente una consulta de información de clientes ante las fuentes de buro **no debe ser superior a 30 segundos** en **promedio**\n",
    "- Muestra de **n = 50** clientes consultados\n",
    "- La empresa está dispuesta a asumir un error del 5% en la prueba\n",
    "\n",
    "**¿El proveedor de información satisface estadísticamente este requerimiento?**"
   ]
  },
  {
   "cell_type": "code",
   "execution_count": 2,
   "metadata": {},
   "outputs": [],
   "source": [
    "import pandas as pd\n",
    "import numpy as np\n",
    "import seaborn as sns\n",
    "from scipy.stats import expon\n",
    "from scipy.stats import uniform"
   ]
  },
  {
   "cell_type": "code",
   "execution_count": 3,
   "metadata": {},
   "outputs": [
    {
     "data": {
      "text/plain": [
       "50"
      ]
     },
     "execution_count": 3,
     "metadata": {},
     "output_type": "execute_result"
    }
   ],
   "source": [
    "muestra = [42, 35, 29, 45, 41, 57, 54, 47, 48, 56, 47, 35, \n",
    "           52, 31, 52, 55, 57, 58, 26, 29, 32, 37, 32, 34, \n",
    "           48, 20, 48, 51, 27, 24, 39, 40, 31, 34, 23, 24, \n",
    "           41, 58, 44, 48, 31, 23, 27, 55, 43, 47, 30, 57, 38, 51]\n",
    "len(muestra)"
   ]
  },
  {
   "cell_type": "code",
   "execution_count": 4,
   "metadata": {},
   "outputs": [],
   "source": [
    "# Hipotesis\n",
    "# El scale es el valor de la hipotesis (lambda)\n",
    "\n",
    "from scipy.stats import expon\n",
    "media, var, sked, kurt = expon.stats(scale=30, moments=\"mvsk\")"
   ]
  },
  {
   "cell_type": "code",
   "execution_count": 8,
   "metadata": {},
   "outputs": [
    {
     "data": {
      "text/plain": [
       "40.66"
      ]
     },
     "execution_count": 8,
     "metadata": {},
     "output_type": "execute_result"
    }
   ],
   "source": [
    "# Paso 1: parametro lambda\n",
    "# Paso 2: HP\n",
    "\n",
    "mu = 30 # Nula o igualdad\n",
    "mu > 30\n",
    "\n",
    "# Paso 3: Mejor estimador\n",
    "# Estimador\n",
    "# Paso 4: Distribucion\n",
    "promedio = np.mean(muestra)\n",
    "promedio"
   ]
  },
  {
   "cell_type": "code",
   "execution_count": 7,
   "metadata": {},
   "outputs": [
    {
     "data": {
      "text/plain": [
       "2.5125860958161983"
      ]
     },
     "execution_count": 7,
     "metadata": {},
     "output_type": "execute_result"
    }
   ],
   "source": [
    "# Paso 5: VAlor estadistico\n",
    "z = (promedio - mu)/np.sqrt(var/50)\n",
    "z"
   ]
  },
  {
   "cell_type": "code",
   "execution_count": 12,
   "metadata": {},
   "outputs": [],
   "source": [
    "# Paso 6: Tolerancia de error\n",
    "alpha = 0.05\n",
    "\n",
    "# Criterios de rechazo\n",
    "from scipy.stats import norm\n",
    "data_norm = norm.rvs(size=1000000)"
   ]
  },
  {
   "cell_type": "code",
   "execution_count": 14,
   "metadata": {},
   "outputs": [
    {
     "data": {
      "text/plain": [
       "Text(0.5, 1.0, 'Distribucion Normal')"
      ]
     },
     "execution_count": 14,
     "metadata": {},
     "output_type": "execute_result"
    },
    {
     "data": {
      "image/png": "[encoded data removed]",
      "text/plain": [
       "<Figure size 432x288 with 1 Axes>"
      ]
     },
     "metadata": {
      "needs_background": "light"
     },
     "output_type": "display_data"
    }
   ],
   "source": [
    "ax = sns.distplot(data_norm, bins = 500, kde=False, color=\"blue\")\n",
    "ax.set_title(\"Distribucion Normal\")"
   ]
  },
  {
   "cell_type": "code",
   "execution_count": 15,
   "metadata": {},
   "outputs": [
    {
     "data": {
      "text/plain": [
       "1.6448536269514722"
      ]
     },
     "execution_count": 15,
     "metadata": {},
     "output_type": "execute_result"
    }
   ],
   "source": [
    "valor_critico = norm.ppf(1-alpha, loc=0, scale=1) # loc = media 0 y scale = std 1\n",
    "valor_critico"
   ]
  },
  {
   "cell_type": "code",
   "execution_count": 19,
   "metadata": {},
   "outputs": [
    {
     "data": {
      "text/plain": [
       "<matplotlib.legend.Legend at 0x7f1b31cdd790>"
      ]
     },
     "execution_count": 19,
     "metadata": {},
     "output_type": "execute_result"
    },
    {
     "data": {
      "image/png": "[encoded data removed]",
      "text/plain": [
       "<Figure size 432x288 with 1 Axes>"
      ]
     },
     "metadata": {
      "needs_background": "light"
     },
     "output_type": "display_data"
    }
   ],
   "source": [
    "ax = sns.distplot(data_norm, bins = 500, kde=False, color=\"blue\")\n",
    "ax.axvline(x = valor_critico, linestyle=\"--\", label =\"Valor critico\")\n",
    "ax.axvline(x = z, linestyle=\"--\", label =\"Valor estadistico\", color =\"r\")\n",
    "ax.set_title(\"Distribucion Normal\")\n",
    "ax.legend()"
   ]
  },
  {
   "cell_type": "code",
   "execution_count": null,
   "metadata": {},
   "outputs": [],
   "source": []
  }
 ],
 "metadata": {
  "kernelspec": {
   "display_name": "Python 3",
   "language": "python",
   "name": "python3"
  },
  "language_info": {
   "codemirror_mode": {
    "name": "ipython",
    "version": 3
   },
   "file_extension": ".py",
   "mimetype": "text/x-python",
   "name": "python",
   "nbconvert_exporter": "python",
   "pygments_lexer": "ipython3",
   "version": "3.8.3"
  }
 },
 "nbformat": 4,
 "nbformat_minor": 4
}
