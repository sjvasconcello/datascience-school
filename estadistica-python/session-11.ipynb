{
 "cells": [
  {
   "cell_type": "code",
   "execution_count": 66,
   "metadata": {},
   "outputs": [],
   "source": [
    "import seaborn as sns\n",
    "import matplotlib.pyplot as plt\n",
    "%matplotlib inline"
   ]
  },
  {
   "cell_type": "code",
   "execution_count": 67,
   "metadata": {},
   "outputs": [
    {
     "data": {
      "text/plain": [
       "100"
      ]
     },
     "execution_count": 67,
     "metadata": {},
     "output_type": "execute_result"
    }
   ],
   "source": [
    "from scipy.stats import bernoulli, binom, nbinom, poisson\n",
    "p = 0.3\n",
    "data = bernoulli.rvs(p, size = 100)# Random Variable Sample\n",
    "len(data)"
   ]
  },
  {
   "cell_type": "code",
   "execution_count": 68,
   "metadata": {},
   "outputs": [
    {
     "data": {
      "text/plain": [
       "(array(0.3), array(0.21), array(0.87287156), array(-1.23809524))"
      ]
     },
     "execution_count": 68,
     "metadata": {},
     "output_type": "execute_result"
    }
   ],
   "source": [
    "mean, var, skew, kurt = bernoulli.stats(p, moments = \"mvsk\")\n",
    "mean, var, skew, kurt "
   ]
  },
  {
   "cell_type": "code",
   "execution_count": 69,
   "metadata": {},
   "outputs": [
    {
     "data": {
      "text/plain": [
       "<matplotlib.lines.Line2D at 0x7f110a519280>"
      ]
     },
     "execution_count": 69,
     "metadata": {},
     "output_type": "execute_result"
    },
    {
     "data": {
      "image/png": "[encoded data removed]",
      "text/plain": [
       "<Figure size 432x288 with 1 Axes>"
      ]
     },
     "metadata": {
      "needs_background": "light"
     },
     "output_type": "display_data"
    }
   ],
   "source": [
    "ax = sns.distplot(data, bins=30, kde = False, color=\"blue\")\n",
    "ax.set(xlabel=\"Distribucon Bernoulli\", ylabel = \"Frecuencia\")\n",
    "ax.axvline(x=mean, linestyle = \"--\", label = \"Media\")"
   ]
  },
  {
   "cell_type": "code",
   "execution_count": 70,
   "metadata": {},
   "outputs": [
    {
     "data": {
      "text/plain": [
       "(array(3.), array(2.1), array(0.27602622), array(-0.12380952))"
      ]
     },
     "execution_count": 70,
     "metadata": {},
     "output_type": "execute_result"
    }
   ],
   "source": [
    "p = 0.3\n",
    "n = 10\n",
    "data = binom.rvs(p=p, n=n, size = 100)# Random Variable Sample\n",
    "mean, var, skew, kurt = binom.stats(p=p,n=n, moments = \"mvsk\")\n",
    "mean, var, skew, kurt "
   ]
  },
  {
   "cell_type": "code",
   "execution_count": 71,
   "metadata": {},
   "outputs": [
    {
     "data": {
      "text/plain": [
       "<matplotlib.lines.Line2D at 0x7f110a43ffd0>"
      ]
     },
     "execution_count": 71,
     "metadata": {},
     "output_type": "execute_result"
    },
    {
     "data": {
      "image/png": "[encoded data removed]",
      "text/plain": [
       "<Figure size 432x288 with 1 Axes>"
      ]
     },
     "metadata": {
      "needs_background": "light"
     },
     "output_type": "display_data"
    }
   ],
   "source": [
    "ax = sns.distplot(data, bins=30, kde = False, color=\"blue\")\n",
    "ax.set(xlabel=\"Distribucon Binomial\", ylabel = \"Frecuencia\")\n",
    "ax.axvline(x=mean, linestyle = \"--\", label = \"Media\")"
   ]
  },
  {
   "cell_type": "code",
   "execution_count": 72,
   "metadata": {},
   "outputs": [
    {
     "data": {
      "text/plain": [
       "(array(0.3), array(0.21), array(0.87287156), array(-1.23809524))"
      ]
     },
     "execution_count": 72,
     "metadata": {},
     "output_type": "execute_result"
    }
   ],
   "source": [
    "#Distribucion geometroica\n",
    "p = 0.3\n",
    "n = 1\n",
    "data = nbinom.rvs(p=p, n=n, size = 100)# Random Variable Sample\n",
    "mean, var, skew, kurt = binom.stats(p=p,n=n, moments = \"mvsk\")\n",
    "mean, var, skew, kurt "
   ]
  },
  {
   "cell_type": "code",
   "execution_count": 73,
   "metadata": {},
   "outputs": [
    {
     "data": {
      "text/plain": [
       "<matplotlib.lines.Line2D at 0x7f110a3dfa30>"
      ]
     },
     "execution_count": 73,
     "metadata": {},
     "output_type": "execute_result"
    },
    {
     "data": {
      "image/png": "[encoded data removed]",
      "text/plain": [
       "<Figure size 432x288 with 1 Axes>"
      ]
     },
     "metadata": {
      "needs_background": "light"
     },
     "output_type": "display_data"
    }
   ],
   "source": [
    "ax = sns.distplot(data, bins=30, kde = False, color=\"blue\")\n",
    "ax.set(xlabel=\"Distribucon Binomial Negativa\", ylabel = \"Frecuencia\")\n",
    "ax.axvline(x=mean, linestyle = \"--\", label = \"Media\")"
   ]
  },
  {
   "cell_type": "code",
   "execution_count": 74,
   "metadata": {},
   "outputs": [
    {
     "data": {
      "text/plain": [
       "(array(2.33333333), array(7.77777778), array(2.03188864), array(6.12857143))"
      ]
     },
     "execution_count": 74,
     "metadata": {},
     "output_type": "execute_result"
    }
   ],
   "source": [
    "# Geometrica\n",
    "p = 0.3\n",
    "n = 1\n",
    "data = nbinom.rvs(p=p, n=n, size = 100)# Random Variable Sample\n",
    "mean, var, skew, kurt = nbinom.stats(p=p,n=n, moments = \"mvsk\")\n",
    "mean, var, skew, kurt "
   ]
  },
  {
   "cell_type": "code",
   "execution_count": 75,
   "metadata": {},
   "outputs": [
    {
     "data": {
      "text/plain": [
       "(array(100.), array(100.), array(0.1), array(0.01))"
      ]
     },
     "execution_count": 75,
     "metadata": {},
     "output_type": "execute_result"
    }
   ],
   "source": [
    "lambda_p = 100\n",
    "data = poisson.rvs(mu=lambda_p, size = 100)# Random Variable Sample\n",
    "mean, var, skew, kurt = poisson.stats(mu=lambda_p, moments = \"mvsk\")\n",
    "mean, var, skew, kurt "
   ]
  },
  {
   "cell_type": "code",
   "execution_count": 76,
   "metadata": {},
   "outputs": [
    {
     "data": {
      "text/plain": [
       "<matplotlib.lines.Line2D at 0x7f110a505490>"
      ]
     },
     "execution_count": 76,
     "metadata": {},
     "output_type": "execute_result"
    },
    {
     "data": {
      "image/png": "[encoded data removed]",
      "text/plain": [
       "<Figure size 432x288 with 1 Axes>"
      ]
     },
     "metadata": {
      "needs_background": "light"
     },
     "output_type": "display_data"
    }
   ],
   "source": [
    "ax = sns.distplot(data, bins=30, kde = False, color=\"blue\")\n",
    "ax.set(xlabel=\"Distribucon Poisson\", ylabel = \"Frecuencia\")\n",
    "ax.axvline(x=mean, linestyle = \"--\", label = \"Media\")"
   ]
  },
  {
   "cell_type": "code",
   "execution_count": null,
   "metadata": {},
   "outputs": [],
   "source": []
  },
  {
   "cell_type": "code",
   "execution_count": null,
   "metadata": {},
   "outputs": [],
   "source": []
  },
  {
   "cell_type": "code",
   "execution_count": null,
   "metadata": {},
   "outputs": [],
   "source": []
  },
  {
   "cell_type": "code",
   "execution_count": null,
   "metadata": {},
   "outputs": [],
   "source": []
  }
 ],
 "metadata": {
  "kernelspec": {
   "display_name": "Python 3",
   "language": "python",
   "name": "python3"
  },
  "language_info": {
   "codemirror_mode": {
    "name": "ipython",
    "version": 3
   },
   "file_extension": ".py",
   "mimetype": "text/x-python",
   "name": "python",
   "nbconvert_exporter": "python",
   "pygments_lexer": "ipython3",
   "version": "3.8.3"
  }
 },
 "nbformat": 4,
 "nbformat_minor": 4
}
