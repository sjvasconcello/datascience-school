{
 "cells": [
  {
   "cell_type": "code",
   "execution_count": null,
   "metadata": {},
   "outputs": [],
   "source": []
  },
  {
   "cell_type": "code",
   "execution_count": 17,
   "metadata": {},
   "outputs": [],
   "source": [
    "import datetime\n",
    "import numpy as np\n",
    "import pandas as pd\n",
    "from datetime import date\n",
    "from scipy.stats import bernoulli, binom"
   ]
  },
  {
   "cell_type": "code",
   "execution_count": 2,
   "metadata": {},
   "outputs": [
    {
     "data": {
      "text/plain": [
       "str"
      ]
     },
     "execution_count": 2,
     "metadata": {},
     "output_type": "execute_result"
    }
   ],
   "source": [
    "type(\"1\")"
   ]
  },
  {
   "cell_type": "code",
   "execution_count": 3,
   "metadata": {},
   "outputs": [
    {
     "data": {
      "text/plain": [
       "False"
      ]
     },
     "execution_count": 3,
     "metadata": {},
     "output_type": "execute_result"
    }
   ],
   "source": [
    "(1>2) & (1<2)"
   ]
  },
  {
   "cell_type": "code",
   "execution_count": 4,
   "metadata": {},
   "outputs": [
    {
     "data": {
      "text/plain": [
       "True"
      ]
     },
     "execution_count": 4,
     "metadata": {},
     "output_type": "execute_result"
    }
   ],
   "source": [
    "(1>2) | (1<2)"
   ]
  },
  {
   "cell_type": "code",
   "execution_count": 5,
   "metadata": {},
   "outputs": [],
   "source": [
    "universo = [\"Cara\", \"Sello\"]\n",
    "p_cara = 1/2"
   ]
  },
  {
   "cell_type": "code",
   "execution_count": 10,
   "metadata": {},
   "outputs": [
    {
     "data": {
      "text/plain": [
       "'Sello'"
      ]
     },
     "execution_count": 10,
     "metadata": {},
     "output_type": "execute_result"
    }
   ],
   "source": [
    "universo[bernoulli.rvs(p=p_cara)]"
   ]
  },
  {
   "cell_type": "code",
   "execution_count": 11,
   "metadata": {},
   "outputs": [
    {
     "data": {
      "text/plain": [
       "array([1, 1, 0, 1, 0, 1, 1, 1, 1, 1])"
      ]
     },
     "execution_count": 11,
     "metadata": {},
     "output_type": "execute_result"
    }
   ],
   "source": [
    "bernoulli.rvs(p=p_cara, size=10)"
   ]
  },
  {
   "cell_type": "code",
   "execution_count": 20,
   "metadata": {},
   "outputs": [
    {
     "data": {
      "text/plain": [
       "array([ 5,  4,  6,  5,  6,  4,  5,  7,  5,  4,  6,  4,  5,  2,  8,  3,  6,\n",
       "        6,  4,  4,  6,  4,  4,  4,  5,  5,  3,  5,  5,  5,  5,  7,  7,  6,\n",
       "        4,  7,  4,  5,  5,  3,  6,  5,  5,  7,  4,  2,  7,  6,  7,  6,  3,\n",
       "        5,  6,  3,  6,  6,  7,  5,  5,  5,  9,  5,  6,  6,  7,  4,  5,  6,\n",
       "        6,  6,  2,  6,  5,  4,  6,  3,  4,  6,  5,  9,  6,  9,  6,  6,  7,\n",
       "        6,  4,  4,  4,  6,  3,  7,  5,  5,  6,  5,  3,  3,  4,  6,  4,  3,\n",
       "        7,  5,  3,  6,  7,  7,  8,  4,  3,  5,  7,  4,  6,  7,  6,  6,  7,\n",
       "        5,  7,  6,  6,  8,  5,  3,  4,  7,  5,  5,  2,  6,  3,  6,  7,  5,\n",
       "        2,  6,  3,  4,  8,  6,  2,  4,  5,  4,  3,  4,  5,  6,  5,  8,  6,\n",
       "        4,  2,  4,  3,  4,  2,  7,  5,  3,  3,  3,  7,  7,  6,  7,  6,  7,\n",
       "        6,  5,  6,  6,  4,  8,  6,  8,  3,  5,  3,  4,  6,  5,  4,  3,  6,\n",
       "        4,  5,  3,  5,  3,  5,  4,  5,  3,  5,  5,  5,  5,  3,  5,  7,  3,\n",
       "        6,  5,  6,  7,  9,  4,  3,  5,  3,  2,  5,  6,  8,  4,  6,  5,  7,\n",
       "        7,  1,  6,  4,  5,  4,  3,  4,  4,  2,  2,  2,  5,  5,  7,  5,  4,\n",
       "        5,  5,  3,  5,  4,  8,  5,  5,  6,  5,  7,  4,  4,  2,  7,  4,  2,\n",
       "        8,  1,  7,  5,  5,  6,  9,  5,  7,  4,  4,  6,  6,  7,  7,  5,  9,\n",
       "        1,  4,  6,  5,  4,  6,  5,  5,  5,  3,  4,  5,  5,  4,  5,  7,  5,\n",
       "        1,  4,  6,  6,  5,  6,  3,  3,  5,  4,  6,  6,  4,  7,  7,  5,  2,\n",
       "        3,  5,  5,  3,  5,  6,  3,  5,  7,  2,  8,  3,  2,  6,  6,  7,  6,\n",
       "        2,  6,  5,  4,  5,  5,  4,  6,  6,  5,  3,  3,  2,  5,  7,  5,  5,\n",
       "        4,  5,  4,  6,  6,  6,  6,  4,  4,  6,  5,  4,  6,  3,  5,  7,  2,\n",
       "        5,  4,  7,  0,  3,  3,  5,  6,  7,  7,  5,  3,  4,  6,  7,  6,  4,\n",
       "        6,  5,  3,  5,  5,  2,  7, 10,  6,  4,  4,  3,  4,  7,  5,  3,  4,\n",
       "        5,  3,  6,  4,  1,  4,  4,  4,  8,  3,  5,  6,  8,  3,  5,  4,  4,\n",
       "        5,  5,  7,  3,  3,  6,  1,  6,  6,  4,  7,  5,  4,  5,  4,  6,  4,\n",
       "        3,  8,  8,  4,  6,  4,  3,  6,  4,  4,  5,  3,  6,  5,  6,  6,  5,\n",
       "        6,  3,  3,  4,  5,  5,  5,  4,  8,  7,  2,  2,  3,  3,  4,  5,  7,\n",
       "        4,  4,  4,  2,  7,  5,  6,  8,  5,  3,  3,  7,  2,  5,  4,  1,  5,\n",
       "        7,  5,  4,  8,  5,  4,  6,  3,  4,  5,  8,  6,  5,  8,  4,  4,  4,\n",
       "        6,  5,  5,  4,  6,  3,  5])"
      ]
     },
     "execution_count": 20,
     "metadata": {},
     "output_type": "execute_result"
    }
   ],
   "source": [
    "binom.rvs(p=p_cara, n = 10, size= 500)"
   ]
  },
  {
   "cell_type": "code",
   "execution_count": 21,
   "metadata": {},
   "outputs": [
    {
     "data": {
      "text/plain": [
       "5    50\n",
       "4    42\n",
       "6    32\n",
       "3    27\n",
       "7    21\n",
       "8    13\n",
       "2     9\n",
       "9     3\n",
       "1     3\n",
       "dtype: int64"
      ]
     },
     "execution_count": 21,
     "metadata": {},
     "output_type": "execute_result"
    }
   ],
   "source": [
    "pd.Series(binom.rvs(p=p_cara, n = 10, size= 200)).value_counts()"
   ]
  },
  {
   "cell_type": "code",
   "execution_count": 22,
   "metadata": {},
   "outputs": [
    {
     "data": {
      "text/plain": [
       "5     0.53\n",
       "4     0.45\n",
       "6     0.39\n",
       "7     0.24\n",
       "3     0.16\n",
       "8     0.12\n",
       "2     0.06\n",
       "1     0.03\n",
       "10    0.01\n",
       "9     0.01\n",
       "dtype: float64"
      ]
     },
     "execution_count": 22,
     "metadata": {},
     "output_type": "execute_result"
    }
   ],
   "source": [
    "pd.Series(binom.rvs(p=p_cara, n = 10, size= 200)).value_counts() / 100"
   ]
  },
  {
   "cell_type": "code",
   "execution_count": null,
   "metadata": {},
   "outputs": [],
   "source": []
  }
 ],
 "metadata": {
  "kernelspec": {
   "display_name": "Python 3",
   "language": "python",
   "name": "python3"
  },
  "language_info": {
   "codemirror_mode": {
    "name": "ipython",
    "version": 3
   },
   "file_extension": ".py",
   "mimetype": "text/x-python",
   "name": "python",
   "nbconvert_exporter": "python",
   "pygments_lexer": "ipython3",
   "version": "3.8.3"
  }
 },
 "nbformat": 4,
 "nbformat_minor": 4
}
