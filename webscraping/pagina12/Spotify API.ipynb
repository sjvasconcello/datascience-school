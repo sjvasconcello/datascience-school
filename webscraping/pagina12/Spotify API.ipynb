{
 "cells": [
  {
   "cell_type": "markdown",
   "metadata": {},
   "source": [
    "## Spotify API"
   ]
  },
  {
   "cell_type": "code",
   "execution_count": 85,
   "metadata": {},
   "outputs": [],
   "source": [
    "import base64\n",
    "CLIENT_SECRET = \"6a18235add874fbea78ebe65519ded9c:532ff668a38e4c31a538a476a8c2e711\""
   ]
  },
  {
   "cell_type": "code",
   "execution_count": 118,
   "metadata": {},
   "outputs": [],
   "source": [
    "import requests\n",
    "url_base = \"https://api.spotify.com/v1\"\n",
    "ep_artist= \"/artists/{artist_id}\"\n",
    "id_cp = \"4gzpq5DPGxSnKTe4SA8HAU\""
   ]
  },
  {
   "cell_type": "code",
   "execution_count": 87,
   "metadata": {},
   "outputs": [
    {
     "data": {
      "text/plain": [
       "'https://api.spotify.com/v1/artists/4gzpq5DPGxSnKTe4SA8HAU'"
      ]
     },
     "execution_count": 87,
     "metadata": {},
     "output_type": "execute_result"
    }
   ],
   "source": [
    "url_spotify =url_base+ep_artist.format(artist_id=ud_cp)\n",
    "url_spotify"
   ]
  },
  {
   "cell_type": "code",
   "execution_count": 88,
   "metadata": {},
   "outputs": [
    {
     "data": {
      "text/plain": [
       "401"
      ]
     },
     "execution_count": 88,
     "metadata": {},
     "output_type": "execute_result"
    }
   ],
   "source": [
    "r = requests.get(url_spotify)\n",
    "r.status_code"
   ]
  },
  {
   "cell_type": "code",
   "execution_count": 89,
   "metadata": {},
   "outputs": [
    {
     "data": {
      "text/plain": [
       "{'error': {'status': 401, 'message': 'No token provided'}}"
      ]
     },
     "execution_count": 89,
     "metadata": {},
     "output_type": "execute_result"
    }
   ],
   "source": [
    "r.json()"
   ]
  },
  {
   "cell_type": "code",
   "execution_count": 101,
   "metadata": {},
   "outputs": [],
   "source": [
    "tokens = base64.b64encode(bytes(CLIENT_SECRET, \"utf-8\"))\n",
    "token_url = \"https://accounts.spotify.com/api/token\"\n",
    "\n",
    "params = {\"grant_type\": \"client_credentials\"}\n",
    "headers = {\"Authorization\": \"Basic {}\".format(str(tokens, \"utf-8\"))}"
   ]
  },
  {
   "cell_type": "code",
   "execution_count": null,
   "metadata": {},
   "outputs": [],
   "source": []
  },
  {
   "cell_type": "code",
   "execution_count": 102,
   "metadata": {},
   "outputs": [
    {
     "data": {
      "text/plain": [
       "200"
      ]
     },
     "execution_count": 102,
     "metadata": {},
     "output_type": "execute_result"
    }
   ],
   "source": [
    "r = requests.post(token_url, data=params, headers=headers)\n",
    "r.status_code"
   ]
  },
  {
   "cell_type": "code",
   "execution_count": 103,
   "metadata": {},
   "outputs": [
    {
     "data": {
      "text/plain": [
       "{'access_token': 'BQCeyytOCzKFo8EmvpxgabnR1Xt3fT6uBALb_pCxMszwz8oH504VERcG5OTBSNcBssvjLXyesdwYym2cN2Q',\n",
       " 'token_type': 'Bearer',\n",
       " 'expires_in': 3600,\n",
       " 'scope': ''}"
      ]
     },
     "execution_count": 103,
     "metadata": {},
     "output_type": "execute_result"
    }
   ],
   "source": [
    "r.json()"
   ]
  },
  {
   "cell_type": "code",
   "execution_count": 104,
   "metadata": {},
   "outputs": [
    {
     "data": {
      "text/plain": [
       "'BQCeyytOCzKFo8EmvpxgabnR1Xt3fT6uBALb_pCxMszwz8oH504VERcG5OTBSNcBssvjLXyesdwYym2cN2Q'"
      ]
     },
     "execution_count": 104,
     "metadata": {},
     "output_type": "execute_result"
    }
   ],
   "source": [
    "token = r.json()[\"access_token\"]\n",
    "token"
   ]
  },
  {
   "cell_type": "code",
   "execution_count": 105,
   "metadata": {},
   "outputs": [
    {
     "data": {
      "text/plain": [
       "200"
      ]
     },
     "execution_count": 105,
     "metadata": {},
     "output_type": "execute_result"
    }
   ],
   "source": [
    "header = {\"Authorization\": \"Bearer {}\".format(token)}\n",
    "req = requests.get(url_spotify, headers=header)\n",
    "req.status_code"
   ]
  },
  {
   "cell_type": "code",
   "execution_count": 106,
   "metadata": {},
   "outputs": [
    {
     "data": {
      "text/plain": [
       "{'external_urls': {'spotify': 'https://open.spotify.com/artist/4gzpq5DPGxSnKTe4SA8HAU'},\n",
       " 'followers': {'href': None, 'total': 26278768},\n",
       " 'genres': ['permanent wave', 'pop'],\n",
       " 'href': 'https://api.spotify.com/v1/artists/4gzpq5DPGxSnKTe4SA8HAU',\n",
       " 'id': '4gzpq5DPGxSnKTe4SA8HAU',\n",
       " 'images': [{'height': 640,\n",
       "   'url': 'https://i.scdn.co/image/4ffd6710617d289699cc0df60cf975e316025119',\n",
       "   'width': 640},\n",
       "  {'height': 320,\n",
       "   'url': 'https://i.scdn.co/image/6397b6a29c8d9081412e09feb53600f8c9a18313',\n",
       "   'width': 320},\n",
       "  {'height': 160,\n",
       "   'url': 'https://i.scdn.co/image/73a21de115738931d6c7760408ed367812b55ccd',\n",
       "   'width': 160}],\n",
       " 'name': 'Coldplay',\n",
       " 'popularity': 89,\n",
       " 'type': 'artist',\n",
       " 'uri': 'spotify:artist:4gzpq5DPGxSnKTe4SA8HAU'}"
      ]
     },
     "execution_count": 106,
     "metadata": {},
     "output_type": "execute_result"
    }
   ],
   "source": [
    "req.json()"
   ]
  },
  {
   "cell_type": "code",
   "execution_count": 107,
   "metadata": {},
   "outputs": [],
   "source": [
    "url_busqueda = \"https://api.spotify.com/v1/search\"\n",
    "search_params = {\"q\":\"Iron+Maiden\", \"type\":\"artist\", \"market\":\"CL\"}"
   ]
  },
  {
   "cell_type": "code",
   "execution_count": 108,
   "metadata": {},
   "outputs": [],
   "source": [
    "busqueda = requests.get(url_busqueda, headers=header, params=search_params)"
   ]
  },
  {
   "cell_type": "code",
   "execution_count": 109,
   "metadata": {},
   "outputs": [
    {
     "data": {
      "text/plain": [
       "200"
      ]
     },
     "execution_count": 109,
     "metadata": {},
     "output_type": "execute_result"
    }
   ],
   "source": [
    "busqueda.status_code"
   ]
  },
  {
   "cell_type": "code",
   "execution_count": 110,
   "metadata": {},
   "outputs": [],
   "source": [
    "import pandas as pd\n"
   ]
  },
  {
   "cell_type": "code",
   "execution_count": 111,
   "metadata": {},
   "outputs": [
    {
     "data": {
      "text/html": [
       "<div>\n",
       "<style scoped>\n",
       "    .dataframe tbody tr th:only-of-type {\n",
       "        vertical-align: middle;\n",
       "    }\n",
       "\n",
       "    .dataframe tbody tr th {\n",
       "        vertical-align: top;\n",
       "    }\n",
       "\n",
       "    .dataframe thead th {\n",
       "        text-align: right;\n",
       "    }\n",
       "</style>\n",
       "<table border=\"1\" class=\"dataframe\">\n",
       "  <thead>\n",
       "    <tr style=\"text-align: right;\">\n",
       "      <th></th>\n",
       "      <th>external_urls</th>\n",
       "      <th>followers</th>\n",
       "      <th>genres</th>\n",
       "      <th>href</th>\n",
       "      <th>id</th>\n",
       "      <th>images</th>\n",
       "      <th>name</th>\n",
       "      <th>popularity</th>\n",
       "      <th>type</th>\n",
       "      <th>uri</th>\n",
       "    </tr>\n",
       "  </thead>\n",
       "  <tbody>\n",
       "    <tr>\n",
       "      <th>0</th>\n",
       "      <td>{'spotify': 'https://open.spotify.com/artist/6...</td>\n",
       "      <td>{'href': None, 'total': 5444105}</td>\n",
       "      <td>[album rock, hard rock, metal, nwobhm, rock]</td>\n",
       "      <td>https://api.spotify.com/v1/artists/6mdiAmATAx7...</td>\n",
       "      <td>6mdiAmATAx73kdxrNrnlao</td>\n",
       "      <td>[{'height': 640, 'url': 'https://i.scdn.co/ima...</td>\n",
       "      <td>Iron Maiden</td>\n",
       "      <td>77</td>\n",
       "      <td>artist</td>\n",
       "      <td>spotify:artist:6mdiAmATAx73kdxrNrnlao</td>\n",
       "    </tr>\n",
       "    <tr>\n",
       "      <th>1</th>\n",
       "      <td>{'spotify': 'https://open.spotify.com/artist/2...</td>\n",
       "      <td>{'href': None, 'total': 400}</td>\n",
       "      <td>[]</td>\n",
       "      <td>https://api.spotify.com/v1/artists/2bb97mSGnF8...</td>\n",
       "      <td>2bb97mSGnF818Xcb86ewt7</td>\n",
       "      <td>[{'height': 640, 'url': 'https://i.scdn.co/ima...</td>\n",
       "      <td>The Iron Maidens</td>\n",
       "      <td>24</td>\n",
       "      <td>artist</td>\n",
       "      <td>spotify:artist:2bb97mSGnF818Xcb86ewt7</td>\n",
       "    </tr>\n",
       "    <tr>\n",
       "      <th>2</th>\n",
       "      <td>{'spotify': 'https://open.spotify.com/artist/5...</td>\n",
       "      <td>{'href': None, 'total': 1968}</td>\n",
       "      <td>[]</td>\n",
       "      <td>https://api.spotify.com/v1/artists/5jtCtv88wno...</td>\n",
       "      <td>5jtCtv88wno9jIusR82dmQ</td>\n",
       "      <td>[{'height': 640, 'url': 'https://i.scdn.co/ima...</td>\n",
       "      <td>The Iron Maiden</td>\n",
       "      <td>4</td>\n",
       "      <td>artist</td>\n",
       "      <td>spotify:artist:5jtCtv88wno9jIusR82dmQ</td>\n",
       "    </tr>\n",
       "    <tr>\n",
       "      <th>3</th>\n",
       "      <td>{'spotify': 'https://open.spotify.com/artist/0...</td>\n",
       "      <td>{'href': None, 'total': 1070}</td>\n",
       "      <td>[]</td>\n",
       "      <td>https://api.spotify.com/v1/artists/0VhddzEFAYb...</td>\n",
       "      <td>0VhddzEFAYbACFHu6K6btD</td>\n",
       "      <td>[{'height': 640, 'url': 'https://i.scdn.co/ima...</td>\n",
       "      <td>Paul Dianno &amp; Dennis Stratton from Iron Maiden</td>\n",
       "      <td>7</td>\n",
       "      <td>artist</td>\n",
       "      <td>spotify:artist:0VhddzEFAYbACFHu6K6btD</td>\n",
       "    </tr>\n",
       "    <tr>\n",
       "      <th>4</th>\n",
       "      <td>{'spotify': 'https://open.spotify.com/artist/2...</td>\n",
       "      <td>{'href': None, 'total': 374}</td>\n",
       "      <td>[]</td>\n",
       "      <td>https://api.spotify.com/v1/artists/2YZr3Xthgy2...</td>\n",
       "      <td>2YZr3Xthgy283qC7s4tVM1</td>\n",
       "      <td>[{'height': 640, 'url': 'https://i.scdn.co/ima...</td>\n",
       "      <td>The Bolton Iron Maiden</td>\n",
       "      <td>1</td>\n",
       "      <td>artist</td>\n",
       "      <td>spotify:artist:2YZr3Xthgy283qC7s4tVM1</td>\n",
       "    </tr>\n",
       "  </tbody>\n",
       "</table>\n",
       "</div>"
      ],
      "text/plain": [
       "                                       external_urls  \\\n",
       "0  {'spotify': 'https://open.spotify.com/artist/6...   \n",
       "1  {'spotify': 'https://open.spotify.com/artist/2...   \n",
       "2  {'spotify': 'https://open.spotify.com/artist/5...   \n",
       "3  {'spotify': 'https://open.spotify.com/artist/0...   \n",
       "4  {'spotify': 'https://open.spotify.com/artist/2...   \n",
       "\n",
       "                          followers  \\\n",
       "0  {'href': None, 'total': 5444105}   \n",
       "1      {'href': None, 'total': 400}   \n",
       "2     {'href': None, 'total': 1968}   \n",
       "3     {'href': None, 'total': 1070}   \n",
       "4      {'href': None, 'total': 374}   \n",
       "\n",
       "                                         genres  \\\n",
       "0  [album rock, hard rock, metal, nwobhm, rock]   \n",
       "1                                            []   \n",
       "2                                            []   \n",
       "3                                            []   \n",
       "4                                            []   \n",
       "\n",
       "                                                href                      id  \\\n",
       "0  https://api.spotify.com/v1/artists/6mdiAmATAx7...  6mdiAmATAx73kdxrNrnlao   \n",
       "1  https://api.spotify.com/v1/artists/2bb97mSGnF8...  2bb97mSGnF818Xcb86ewt7   \n",
       "2  https://api.spotify.com/v1/artists/5jtCtv88wno...  5jtCtv88wno9jIusR82dmQ   \n",
       "3  https://api.spotify.com/v1/artists/0VhddzEFAYb...  0VhddzEFAYbACFHu6K6btD   \n",
       "4  https://api.spotify.com/v1/artists/2YZr3Xthgy2...  2YZr3Xthgy283qC7s4tVM1   \n",
       "\n",
       "                                              images  \\\n",
       "0  [{'height': 640, 'url': 'https://i.scdn.co/ima...   \n",
       "1  [{'height': 640, 'url': 'https://i.scdn.co/ima...   \n",
       "2  [{'height': 640, 'url': 'https://i.scdn.co/ima...   \n",
       "3  [{'height': 640, 'url': 'https://i.scdn.co/ima...   \n",
       "4  [{'height': 640, 'url': 'https://i.scdn.co/ima...   \n",
       "\n",
       "                                             name  popularity    type  \\\n",
       "0                                     Iron Maiden          77  artist   \n",
       "1                                The Iron Maidens          24  artist   \n",
       "2                                 The Iron Maiden           4  artist   \n",
       "3  Paul Dianno & Dennis Stratton from Iron Maiden           7  artist   \n",
       "4                          The Bolton Iron Maiden           1  artist   \n",
       "\n",
       "                                     uri  \n",
       "0  spotify:artist:6mdiAmATAx73kdxrNrnlao  \n",
       "1  spotify:artist:2bb97mSGnF818Xcb86ewt7  \n",
       "2  spotify:artist:5jtCtv88wno9jIusR82dmQ  \n",
       "3  spotify:artist:0VhddzEFAYbACFHu6K6btD  \n",
       "4  spotify:artist:2YZr3Xthgy283qC7s4tVM1  "
      ]
     },
     "execution_count": 111,
     "metadata": {},
     "output_type": "execute_result"
    }
   ],
   "source": [
    "df = pd.DataFrame(busqueda.json()[\"artists\"][\"items\"])\n",
    "df"
   ]
  },
  {
   "cell_type": "code",
   "execution_count": 112,
   "metadata": {},
   "outputs": [
    {
     "data": {
      "text/plain": [
       "'6mdiAmATAx73kdxrNrnlao'"
      ]
     },
     "execution_count": 112,
     "metadata": {},
     "output_type": "execute_result"
    }
   ],
   "source": [
    "df.sort_values(by=\"popularity\", ascending=False).iloc[0][\"id\"]"
   ]
  },
  {
   "cell_type": "code",
   "execution_count": 115,
   "metadata": {},
   "outputs": [
    {
     "name": "stdout",
     "output_type": "stream",
     "text": [
      "Token valido por 3600 segundos.\n"
     ]
    },
    {
     "data": {
      "text/plain": [
       "'BQBpLsYZI02By4KZIH1wqFAF0fH4FJrvTtSE2JTarXyEoHiyQakmy_AaQ3_ZT3xz-8zp2gOcv-pEhjCmx80'"
      ]
     },
     "execution_count": 115,
     "metadata": {},
     "output_type": "execute_result"
    }
   ],
   "source": [
    "def get_token(client_secret):\n",
    "    encoded = base64.b64encode(bytes(CLIENT_SECRET, \"utf-8\"))\n",
    "    params = {\"grant_type\": \"client_credentials\"}\n",
    "    header = {\"Authorization\": \"Basic \" + str(encoded, \"utf-8\")}\n",
    "    r = requests.post(\"https://accounts.spotify.com/api/token\", headers=header, data=params)\n",
    "    if r.status_code != 200:\n",
    "        print(\"Error en la request.\", r.json())\n",
    "        return None\n",
    "    print(\"Token valido por {} segundos.\".format(r.json()[\"expires_in\"]))\n",
    "    return r.json()[\"access_token\"]\n",
    "\n",
    "get_token(CLIENT_SECRET)\n",
    "        \n",
    "    "
   ]
  },
  {
   "cell_type": "code",
   "execution_count": 116,
   "metadata": {},
   "outputs": [
    {
     "name": "stdout",
     "output_type": "stream",
     "text": [
      "Token valido por 3600 segundos.\n"
     ]
    }
   ],
   "source": [
    "header = {\"Authorization\": \"Bearer {}\".format(get_token(CLIENT_SECRET))}"
   ]
  },
  {
   "cell_type": "code",
   "execution_count": 119,
   "metadata": {},
   "outputs": [
    {
     "data": {
      "text/plain": [
       "'4gzpq5DPGxSnKTe4SA8HAU'"
      ]
     },
     "execution_count": 119,
     "metadata": {},
     "output_type": "execute_result"
    }
   ],
   "source": [
    "id_cp"
   ]
  },
  {
   "cell_type": "code",
   "execution_count": 122,
   "metadata": {},
   "outputs": [],
   "source": [
    "ep_artist_albums = \"/artists/{id}/albums\""
   ]
  },
  {
   "cell_type": "code",
   "execution_count": 123,
   "metadata": {},
   "outputs": [
    {
     "data": {
      "text/plain": [
       "'https://api.spotify.com/v1/artists/{id}/albums'"
      ]
     },
     "execution_count": 123,
     "metadata": {},
     "output_type": "execute_result"
    }
   ],
   "source": [
    "url_base+ep_artist_albums"
   ]
  },
  {
   "cell_type": "code",
   "execution_count": 125,
   "metadata": {},
   "outputs": [],
   "source": [
    "params = {\"country\": \"CL\"}"
   ]
  },
  {
   "cell_type": "code",
   "execution_count": 126,
   "metadata": {},
   "outputs": [
    {
     "data": {
      "text/plain": [
       "200"
      ]
     },
     "execution_count": 126,
     "metadata": {},
     "output_type": "execute_result"
    }
   ],
   "source": [
    "albums_im = requests.get(url_base+ep_artist_albums.format(id=id_cp), headers=header, params=params)\n",
    "albums_im.status_code"
   ]
  },
  {
   "cell_type": "code",
   "execution_count": 127,
   "metadata": {},
   "outputs": [
    {
     "data": {
      "text/plain": [
       "{'href': 'https://api.spotify.com/v1/artists/4gzpq5DPGxSnKTe4SA8HAU/albums?offset=0&limit=20&include_groups=album,single,compilation,appears_on&market=CL',\n",
       " 'items': [{'album_group': 'album',\n",
       "   'album_type': 'album',\n",
       "   'artists': [{'external_urls': {'spotify': 'https://open.spotify.com/artist/4gzpq5DPGxSnKTe4SA8HAU'},\n",
       "     'href': 'https://api.spotify.com/v1/artists/4gzpq5DPGxSnKTe4SA8HAU',\n",
       "     'id': '4gzpq5DPGxSnKTe4SA8HAU',\n",
       "     'name': 'Coldplay',\n",
       "     'type': 'artist',\n",
       "     'uri': 'spotify:artist:4gzpq5DPGxSnKTe4SA8HAU'}],\n",
       "   'external_urls': {'spotify': 'https://open.spotify.com/album/2FeyIYDDAQqcOJKOKhvHdr'},\n",
       "   'href': 'https://api.spotify.com/v1/albums/2FeyIYDDAQqcOJKOKhvHdr',\n",
       "   'id': '2FeyIYDDAQqcOJKOKhvHdr',\n",
       "   'images': [{'height': 640,\n",
       "     'url': 'https://i.scdn.co/image/ab67616d0000b2737b9a76ec264401b223e607a4',\n",
       "     'width': 640},\n",
       "    {'height': 300,\n",
       "     'url': 'https://i.scdn.co/image/ab67616d00001e027b9a76ec264401b223e607a4',\n",
       "     'width': 300},\n",
       "    {'height': 64,\n",
       "     'url': 'https://i.scdn.co/image/ab67616d000048517b9a76ec264401b223e607a4',\n",
       "     'width': 64}],\n",
       "   'name': 'Everyday Life',\n",
       "   'release_date': '2019-11-22',\n",
       "   'release_date_precision': 'day',\n",
       "   'total_tracks': 16,\n",
       "   'type': 'album',\n",
       "   'uri': 'spotify:album:2FeyIYDDAQqcOJKOKhvHdr'},\n",
       "  {'album_group': 'album',\n",
       "   'album_type': 'album',\n",
       "   'artists': [{'external_urls': {'spotify': 'https://open.spotify.com/artist/4gzpq5DPGxSnKTe4SA8HAU'},\n",
       "     'href': 'https://api.spotify.com/v1/artists/4gzpq5DPGxSnKTe4SA8HAU',\n",
       "     'id': '4gzpq5DPGxSnKTe4SA8HAU',\n",
       "     'name': 'Coldplay',\n",
       "     'type': 'artist',\n",
       "     'uri': 'spotify:artist:4gzpq5DPGxSnKTe4SA8HAU'}],\n",
       "   'external_urls': {'spotify': 'https://open.spotify.com/album/4dBp8rzdqH9unSndGk6g6o'},\n",
       "   'href': 'https://api.spotify.com/v1/albums/4dBp8rzdqH9unSndGk6g6o',\n",
       "   'id': '4dBp8rzdqH9unSndGk6g6o',\n",
       "   'images': [{'height': 640,\n",
       "     'url': 'https://i.scdn.co/image/ab67616d0000b2738e29cfc28fec26fcfc58da3e',\n",
       "     'width': 640},\n",
       "    {'height': 300,\n",
       "     'url': 'https://i.scdn.co/image/ab67616d00001e028e29cfc28fec26fcfc58da3e',\n",
       "     'width': 300},\n",
       "    {'height': 64,\n",
       "     'url': 'https://i.scdn.co/image/ab67616d000048518e29cfc28fec26fcfc58da3e',\n",
       "     'width': 64}],\n",
       "   'name': 'Everyday Life',\n",
       "   'release_date': '2019-11-22',\n",
       "   'release_date_precision': 'day',\n",
       "   'total_tracks': 16,\n",
       "   'type': 'album',\n",
       "   'uri': 'spotify:album:4dBp8rzdqH9unSndGk6g6o'},\n",
       "  {'album_group': 'album',\n",
       "   'album_type': 'album',\n",
       "   'artists': [{'external_urls': {'spotify': 'https://open.spotify.com/artist/4gzpq5DPGxSnKTe4SA8HAU'},\n",
       "     'href': 'https://api.spotify.com/v1/artists/4gzpq5DPGxSnKTe4SA8HAU',\n",
       "     'id': '4gzpq5DPGxSnKTe4SA8HAU',\n",
       "     'name': 'Coldplay',\n",
       "     'type': 'artist',\n",
       "     'uri': 'spotify:artist:4gzpq5DPGxSnKTe4SA8HAU'}],\n",
       "   'external_urls': {'spotify': 'https://open.spotify.com/album/19CvkGjYpifkdwgVJSbog2'},\n",
       "   'href': 'https://api.spotify.com/v1/albums/19CvkGjYpifkdwgVJSbog2',\n",
       "   'id': '19CvkGjYpifkdwgVJSbog2',\n",
       "   'images': [{'height': 640,\n",
       "     'url': 'https://i.scdn.co/image/ab67616d0000b273fe5f1f4d742869a253036971',\n",
       "     'width': 640},\n",
       "    {'height': 300,\n",
       "     'url': 'https://i.scdn.co/image/ab67616d00001e02fe5f1f4d742869a253036971',\n",
       "     'width': 300},\n",
       "    {'height': 64,\n",
       "     'url': 'https://i.scdn.co/image/ab67616d00004851fe5f1f4d742869a253036971',\n",
       "     'width': 64}],\n",
       "   'name': 'Live in Buenos Aires',\n",
       "   'release_date': '2018-12-07',\n",
       "   'release_date_precision': 'day',\n",
       "   'total_tracks': 24,\n",
       "   'type': 'album',\n",
       "   'uri': 'spotify:album:19CvkGjYpifkdwgVJSbog2'},\n",
       "  {'album_group': 'album',\n",
       "   'album_type': 'album',\n",
       "   'artists': [{'external_urls': {'spotify': 'https://open.spotify.com/artist/4gzpq5DPGxSnKTe4SA8HAU'},\n",
       "     'href': 'https://api.spotify.com/v1/artists/4gzpq5DPGxSnKTe4SA8HAU',\n",
       "     'id': '4gzpq5DPGxSnKTe4SA8HAU',\n",
       "     'name': 'Coldplay',\n",
       "     'type': 'artist',\n",
       "     'uri': 'spotify:artist:4gzpq5DPGxSnKTe4SA8HAU'}],\n",
       "   'external_urls': {'spotify': 'https://open.spotify.com/album/3cfAM8b8KqJRoIzt3zLKqw'},\n",
       "   'href': 'https://api.spotify.com/v1/albums/3cfAM8b8KqJRoIzt3zLKqw',\n",
       "   'id': '3cfAM8b8KqJRoIzt3zLKqw',\n",
       "   'images': [{'height': 640,\n",
       "     'url': 'https://i.scdn.co/image/ab67616d0000b273e83a9bda48a241b0e2be0d8b',\n",
       "     'width': 640},\n",
       "    {'height': 300,\n",
       "     'url': 'https://i.scdn.co/image/ab67616d00001e02e83a9bda48a241b0e2be0d8b',\n",
       "     'width': 300},\n",
       "    {'height': 64,\n",
       "     'url': 'https://i.scdn.co/image/ab67616d00004851e83a9bda48a241b0e2be0d8b',\n",
       "     'width': 64}],\n",
       "   'name': 'A Head Full of Dreams',\n",
       "   'release_date': '2015-12-04',\n",
       "   'release_date_precision': 'day',\n",
       "   'total_tracks': 11,\n",
       "   'type': 'album',\n",
       "   'uri': 'spotify:album:3cfAM8b8KqJRoIzt3zLKqw'},\n",
       "  {'album_group': 'album',\n",
       "   'album_type': 'album',\n",
       "   'artists': [{'external_urls': {'spotify': 'https://open.spotify.com/artist/4gzpq5DPGxSnKTe4SA8HAU'},\n",
       "     'href': 'https://api.spotify.com/v1/artists/4gzpq5DPGxSnKTe4SA8HAU',\n",
       "     'id': '4gzpq5DPGxSnKTe4SA8HAU',\n",
       "     'name': 'Coldplay',\n",
       "     'type': 'artist',\n",
       "     'uri': 'spotify:artist:4gzpq5DPGxSnKTe4SA8HAU'}],\n",
       "   'external_urls': {'spotify': 'https://open.spotify.com/album/1hNS0RsxPTFjmKXCgmjSLS'},\n",
       "   'href': 'https://api.spotify.com/v1/albums/1hNS0RsxPTFjmKXCgmjSLS',\n",
       "   'id': '1hNS0RsxPTFjmKXCgmjSLS',\n",
       "   'images': [{'height': 640,\n",
       "     'url': 'https://i.scdn.co/image/ab67616d0000b273e17c11c195f80da123e17dde',\n",
       "     'width': 640},\n",
       "    {'height': 300,\n",
       "     'url': 'https://i.scdn.co/image/ab67616d00001e02e17c11c195f80da123e17dde',\n",
       "     'width': 300},\n",
       "    {'height': 64,\n",
       "     'url': 'https://i.scdn.co/image/ab67616d00004851e17c11c195f80da123e17dde',\n",
       "     'width': 64}],\n",
       "   'name': 'Ghost Stories Live 2014',\n",
       "   'release_date': '2014-11-21',\n",
       "   'release_date_precision': 'day',\n",
       "   'total_tracks': 9,\n",
       "   'type': 'album',\n",
       "   'uri': 'spotify:album:1hNS0RsxPTFjmKXCgmjSLS'},\n",
       "  {'album_group': 'album',\n",
       "   'album_type': 'album',\n",
       "   'artists': [{'external_urls': {'spotify': 'https://open.spotify.com/artist/4gzpq5DPGxSnKTe4SA8HAU'},\n",
       "     'href': 'https://api.spotify.com/v1/artists/4gzpq5DPGxSnKTe4SA8HAU',\n",
       "     'id': '4gzpq5DPGxSnKTe4SA8HAU',\n",
       "     'name': 'Coldplay',\n",
       "     'type': 'artist',\n",
       "     'uri': 'spotify:artist:4gzpq5DPGxSnKTe4SA8HAU'}],\n",
       "   'external_urls': {'spotify': 'https://open.spotify.com/album/2G4AUqfwxcV1UdQjm2ouYr'},\n",
       "   'href': 'https://api.spotify.com/v1/albums/2G4AUqfwxcV1UdQjm2ouYr',\n",
       "   'id': '2G4AUqfwxcV1UdQjm2ouYr',\n",
       "   'images': [{'height': 640,\n",
       "     'url': 'https://i.scdn.co/image/ab67616d0000b2731cbd0d5849b51c79c99e7b87',\n",
       "     'width': 640},\n",
       "    {'height': 300,\n",
       "     'url': 'https://i.scdn.co/image/ab67616d00001e021cbd0d5849b51c79c99e7b87',\n",
       "     'width': 300},\n",
       "    {'height': 64,\n",
       "     'url': 'https://i.scdn.co/image/ab67616d000048511cbd0d5849b51c79c99e7b87',\n",
       "     'width': 64}],\n",
       "   'name': 'Ghost Stories',\n",
       "   'release_date': '2014-05-19',\n",
       "   'release_date_precision': 'day',\n",
       "   'total_tracks': 9,\n",
       "   'type': 'album',\n",
       "   'uri': 'spotify:album:2G4AUqfwxcV1UdQjm2ouYr'},\n",
       "  {'album_group': 'album',\n",
       "   'album_type': 'album',\n",
       "   'artists': [{'external_urls': {'spotify': 'https://open.spotify.com/artist/4gzpq5DPGxSnKTe4SA8HAU'},\n",
       "     'href': 'https://api.spotify.com/v1/artists/4gzpq5DPGxSnKTe4SA8HAU',\n",
       "     'id': '4gzpq5DPGxSnKTe4SA8HAU',\n",
       "     'name': 'Coldplay',\n",
       "     'type': 'artist',\n",
       "     'uri': 'spotify:artist:4gzpq5DPGxSnKTe4SA8HAU'}],\n",
       "   'external_urls': {'spotify': 'https://open.spotify.com/album/2R7iJz5uaHjLEVnMkloO18'},\n",
       "   'href': 'https://api.spotify.com/v1/albums/2R7iJz5uaHjLEVnMkloO18',\n",
       "   'id': '2R7iJz5uaHjLEVnMkloO18',\n",
       "   'images': [{'height': 640,\n",
       "     'url': 'https://i.scdn.co/image/ab67616d0000b273c471949318c6c7cfef0111fd',\n",
       "     'width': 640},\n",
       "    {'height': 300,\n",
       "     'url': 'https://i.scdn.co/image/ab67616d00001e02c471949318c6c7cfef0111fd',\n",
       "     'width': 300},\n",
       "    {'height': 64,\n",
       "     'url': 'https://i.scdn.co/image/ab67616d00004851c471949318c6c7cfef0111fd',\n",
       "     'width': 64}],\n",
       "   'name': 'Mylo Xyloto',\n",
       "   'release_date': '2011-10-24',\n",
       "   'release_date_precision': 'day',\n",
       "   'total_tracks': 14,\n",
       "   'type': 'album',\n",
       "   'uri': 'spotify:album:2R7iJz5uaHjLEVnMkloO18'},\n",
       "  {'album_group': 'album',\n",
       "   'album_type': 'album',\n",
       "   'artists': [{'external_urls': {'spotify': 'https://open.spotify.com/artist/4gzpq5DPGxSnKTe4SA8HAU'},\n",
       "     'href': 'https://api.spotify.com/v1/artists/4gzpq5DPGxSnKTe4SA8HAU',\n",
       "     'id': '4gzpq5DPGxSnKTe4SA8HAU',\n",
       "     'name': 'Coldplay',\n",
       "     'type': 'artist',\n",
       "     'uri': 'spotify:artist:4gzpq5DPGxSnKTe4SA8HAU'}],\n",
       "   'external_urls': {'spotify': 'https://open.spotify.com/album/71pRFAwHBLrjKYRG7V1Q2o'},\n",
       "   'href': 'https://api.spotify.com/v1/albums/71pRFAwHBLrjKYRG7V1Q2o',\n",
       "   'id': '71pRFAwHBLrjKYRG7V1Q2o',\n",
       "   'images': [{'height': 640,\n",
       "     'url': 'https://i.scdn.co/image/ab67616d0000b273f0d9835b9650f49aa3a420e7',\n",
       "     'width': 640},\n",
       "    {'height': 300,\n",
       "     'url': 'https://i.scdn.co/image/ab67616d00001e02f0d9835b9650f49aa3a420e7',\n",
       "     'width': 300},\n",
       "    {'height': 64,\n",
       "     'url': 'https://i.scdn.co/image/ab67616d00004851f0d9835b9650f49aa3a420e7',\n",
       "     'width': 64}],\n",
       "   'name': \"Viva La Vida (Prospekt's March Edition)\",\n",
       "   'release_date': '2008-11-24',\n",
       "   'release_date_precision': 'day',\n",
       "   'total_tracks': 18,\n",
       "   'type': 'album',\n",
       "   'uri': 'spotify:album:71pRFAwHBLrjKYRG7V1Q2o'},\n",
       "  {'album_group': 'album',\n",
       "   'album_type': 'album',\n",
       "   'artists': [{'external_urls': {'spotify': 'https://open.spotify.com/artist/4gzpq5DPGxSnKTe4SA8HAU'},\n",
       "     'href': 'https://api.spotify.com/v1/artists/4gzpq5DPGxSnKTe4SA8HAU',\n",
       "     'id': '4gzpq5DPGxSnKTe4SA8HAU',\n",
       "     'name': 'Coldplay',\n",
       "     'type': 'artist',\n",
       "     'uri': 'spotify:artist:4gzpq5DPGxSnKTe4SA8HAU'}],\n",
       "   'external_urls': {'spotify': 'https://open.spotify.com/album/1CEODgTmTwLyabvwd7HBty'},\n",
       "   'href': 'https://api.spotify.com/v1/albums/1CEODgTmTwLyabvwd7HBty',\n",
       "   'id': '1CEODgTmTwLyabvwd7HBty',\n",
       "   'images': [{'height': 640,\n",
       "     'url': 'https://i.scdn.co/image/ab67616d0000b2733d9d867b880ebf840fceec69',\n",
       "     'width': 640},\n",
       "    {'height': 300,\n",
       "     'url': 'https://i.scdn.co/image/ab67616d00001e023d9d867b880ebf840fceec69',\n",
       "     'width': 300},\n",
       "    {'height': 64,\n",
       "     'url': 'https://i.scdn.co/image/ab67616d000048513d9d867b880ebf840fceec69',\n",
       "     'width': 64}],\n",
       "   'name': 'Viva La Vida or Death and All His Friends',\n",
       "   'release_date': '2008-05-26',\n",
       "   'release_date_precision': 'day',\n",
       "   'total_tracks': 10,\n",
       "   'type': 'album',\n",
       "   'uri': 'spotify:album:1CEODgTmTwLyabvwd7HBty'},\n",
       "  {'album_group': 'album',\n",
       "   'album_type': 'album',\n",
       "   'artists': [{'external_urls': {'spotify': 'https://open.spotify.com/artist/4gzpq5DPGxSnKTe4SA8HAU'},\n",
       "     'href': 'https://api.spotify.com/v1/artists/4gzpq5DPGxSnKTe4SA8HAU',\n",
       "     'id': '4gzpq5DPGxSnKTe4SA8HAU',\n",
       "     'name': 'Coldplay',\n",
       "     'type': 'artist',\n",
       "     'uri': 'spotify:artist:4gzpq5DPGxSnKTe4SA8HAU'}],\n",
       "   'external_urls': {'spotify': 'https://open.spotify.com/album/4E7bV0pzG0LciBSWTszra6'},\n",
       "   'href': 'https://api.spotify.com/v1/albums/4E7bV0pzG0LciBSWTszra6',\n",
       "   'id': '4E7bV0pzG0LciBSWTszra6',\n",
       "   'images': [{'height': 640,\n",
       "     'url': 'https://i.scdn.co/image/ab67616d0000b2735f86467ff3b8221f3c9039b4',\n",
       "     'width': 640},\n",
       "    {'height': 300,\n",
       "     'url': 'https://i.scdn.co/image/ab67616d00001e025f86467ff3b8221f3c9039b4',\n",
       "     'width': 300},\n",
       "    {'height': 64,\n",
       "     'url': 'https://i.scdn.co/image/ab67616d000048515f86467ff3b8221f3c9039b4',\n",
       "     'width': 64}],\n",
       "   'name': 'X&Y',\n",
       "   'release_date': '2005-06-07',\n",
       "   'release_date_precision': 'day',\n",
       "   'total_tracks': 13,\n",
       "   'type': 'album',\n",
       "   'uri': 'spotify:album:4E7bV0pzG0LciBSWTszra6'},\n",
       "  {'album_group': 'album',\n",
       "   'album_type': 'album',\n",
       "   'artists': [{'external_urls': {'spotify': 'https://open.spotify.com/artist/4gzpq5DPGxSnKTe4SA8HAU'},\n",
       "     'href': 'https://api.spotify.com/v1/artists/4gzpq5DPGxSnKTe4SA8HAU',\n",
       "     'id': '4gzpq5DPGxSnKTe4SA8HAU',\n",
       "     'name': 'Coldplay',\n",
       "     'type': 'artist',\n",
       "     'uri': 'spotify:artist:4gzpq5DPGxSnKTe4SA8HAU'}],\n",
       "   'external_urls': {'spotify': 'https://open.spotify.com/album/0RHX9XECH8IVI3LNgWDpmQ'},\n",
       "   'href': 'https://api.spotify.com/v1/albums/0RHX9XECH8IVI3LNgWDpmQ',\n",
       "   'id': '0RHX9XECH8IVI3LNgWDpmQ',\n",
       "   'images': [{'height': 640,\n",
       "     'url': 'https://i.scdn.co/image/ab67616d0000b273ad6f442ecac8735b9285a923',\n",
       "     'width': 640},\n",
       "    {'height': 300,\n",
       "     'url': 'https://i.scdn.co/image/ab67616d00001e02ad6f442ecac8735b9285a923',\n",
       "     'width': 300},\n",
       "    {'height': 64,\n",
       "     'url': 'https://i.scdn.co/image/ab67616d00004851ad6f442ecac8735b9285a923',\n",
       "     'width': 64}],\n",
       "   'name': 'A Rush of Blood to the Head',\n",
       "   'release_date': '2002-08-08',\n",
       "   'release_date_precision': 'day',\n",
       "   'total_tracks': 11,\n",
       "   'type': 'album',\n",
       "   'uri': 'spotify:album:0RHX9XECH8IVI3LNgWDpmQ'},\n",
       "  {'album_group': 'album',\n",
       "   'album_type': 'album',\n",
       "   'artists': [{'external_urls': {'spotify': 'https://open.spotify.com/artist/4gzpq5DPGxSnKTe4SA8HAU'},\n",
       "     'href': 'https://api.spotify.com/v1/artists/4gzpq5DPGxSnKTe4SA8HAU',\n",
       "     'id': '4gzpq5DPGxSnKTe4SA8HAU',\n",
       "     'name': 'Coldplay',\n",
       "     'type': 'artist',\n",
       "     'uri': 'spotify:artist:4gzpq5DPGxSnKTe4SA8HAU'}],\n",
       "   'external_urls': {'spotify': 'https://open.spotify.com/album/6ZG5lRT77aJ3btmArcykra'},\n",
       "   'href': 'https://api.spotify.com/v1/albums/6ZG5lRT77aJ3btmArcykra',\n",
       "   'id': '6ZG5lRT77aJ3btmArcykra',\n",
       "   'images': [{'height': 640,\n",
       "     'url': 'https://i.scdn.co/image/ab67616d0000b27345e735e3fc6f0c157d484982',\n",
       "     'width': 640},\n",
       "    {'height': 300,\n",
       "     'url': 'https://i.scdn.co/image/ab67616d00001e0245e735e3fc6f0c157d484982',\n",
       "     'width': 300},\n",
       "    {'height': 64,\n",
       "     'url': 'https://i.scdn.co/image/ab67616d0000485145e735e3fc6f0c157d484982',\n",
       "     'width': 64}],\n",
       "   'name': 'Parachutes',\n",
       "   'release_date': '2000-07-10',\n",
       "   'release_date_precision': 'day',\n",
       "   'total_tracks': 10,\n",
       "   'type': 'album',\n",
       "   'uri': 'spotify:album:6ZG5lRT77aJ3btmArcykra'},\n",
       "  {'album_group': 'single',\n",
       "   'album_type': 'single',\n",
       "   'artists': [{'external_urls': {'spotify': 'https://open.spotify.com/artist/4gzpq5DPGxSnKTe4SA8HAU'},\n",
       "     'href': 'https://api.spotify.com/v1/artists/4gzpq5DPGxSnKTe4SA8HAU',\n",
       "     'id': '4gzpq5DPGxSnKTe4SA8HAU',\n",
       "     'name': 'Coldplay',\n",
       "     'type': 'artist',\n",
       "     'uri': 'spotify:artist:4gzpq5DPGxSnKTe4SA8HAU'}],\n",
       "   'external_urls': {'spotify': 'https://open.spotify.com/album/1YFEfpOP0NJFr4my1WZJgA'},\n",
       "   'href': 'https://api.spotify.com/v1/albums/1YFEfpOP0NJFr4my1WZJgA',\n",
       "   'id': '1YFEfpOP0NJFr4my1WZJgA',\n",
       "   'images': [{'height': 640,\n",
       "     'url': 'https://i.scdn.co/image/ab67616d0000b2733e561bb564f54d24faedd3af',\n",
       "     'width': 640},\n",
       "    {'height': 300,\n",
       "     'url': 'https://i.scdn.co/image/ab67616d00001e023e561bb564f54d24faedd3af',\n",
       "     'width': 300},\n",
       "    {'height': 64,\n",
       "     'url': 'https://i.scdn.co/image/ab67616d000048513e561bb564f54d24faedd3af',\n",
       "     'width': 64}],\n",
       "   'name': \"Champion Of The World (Live at NPR's Tiny Desk)\",\n",
       "   'release_date': '2020-03-16',\n",
       "   'release_date_precision': 'day',\n",
       "   'total_tracks': 1,\n",
       "   'type': 'album',\n",
       "   'uri': 'spotify:album:1YFEfpOP0NJFr4my1WZJgA'},\n",
       "  {'album_group': 'single',\n",
       "   'album_type': 'single',\n",
       "   'artists': [{'external_urls': {'spotify': 'https://open.spotify.com/artist/4gzpq5DPGxSnKTe4SA8HAU'},\n",
       "     'href': 'https://api.spotify.com/v1/artists/4gzpq5DPGxSnKTe4SA8HAU',\n",
       "     'id': '4gzpq5DPGxSnKTe4SA8HAU',\n",
       "     'name': 'Coldplay',\n",
       "     'type': 'artist',\n",
       "     'uri': 'spotify:artist:4gzpq5DPGxSnKTe4SA8HAU'}],\n",
       "   'external_urls': {'spotify': 'https://open.spotify.com/album/1qAJNklFUgIft4H4mzxg4j'},\n",
       "   'href': 'https://api.spotify.com/v1/albums/1qAJNklFUgIft4H4mzxg4j',\n",
       "   'id': '1qAJNklFUgIft4H4mzxg4j',\n",
       "   'images': [{'height': 640,\n",
       "     'url': 'https://i.scdn.co/image/ab67616d0000b2738156941d8f043b1301bae8fb',\n",
       "     'width': 640},\n",
       "    {'height': 300,\n",
       "     'url': 'https://i.scdn.co/image/ab67616d00001e028156941d8f043b1301bae8fb',\n",
       "     'width': 300},\n",
       "    {'height': 64,\n",
       "     'url': 'https://i.scdn.co/image/ab67616d000048518156941d8f043b1301bae8fb',\n",
       "     'width': 64}],\n",
       "   'name': 'Champion of The World / Daddy',\n",
       "   'release_date': '2019-11-20',\n",
       "   'release_date_precision': 'day',\n",
       "   'total_tracks': 5,\n",
       "   'type': 'album',\n",
       "   'uri': 'spotify:album:1qAJNklFUgIft4H4mzxg4j'},\n",
       "  {'album_group': 'single',\n",
       "   'album_type': 'single',\n",
       "   'artists': [{'external_urls': {'spotify': 'https://open.spotify.com/artist/4gzpq5DPGxSnKTe4SA8HAU'},\n",
       "     'href': 'https://api.spotify.com/v1/artists/4gzpq5DPGxSnKTe4SA8HAU',\n",
       "     'id': '4gzpq5DPGxSnKTe4SA8HAU',\n",
       "     'name': 'Coldplay',\n",
       "     'type': 'artist',\n",
       "     'uri': 'spotify:artist:4gzpq5DPGxSnKTe4SA8HAU'}],\n",
       "   'external_urls': {'spotify': 'https://open.spotify.com/album/2BFaHYLKy6IvNfD0zi5EQW'},\n",
       "   'href': 'https://api.spotify.com/v1/albums/2BFaHYLKy6IvNfD0zi5EQW',\n",
       "   'id': '2BFaHYLKy6IvNfD0zi5EQW',\n",
       "   'images': [{'height': 640,\n",
       "     'url': 'https://i.scdn.co/image/ab67616d0000b273d2dce56aa1bcef0f5f83691d',\n",
       "     'width': 640},\n",
       "    {'height': 300,\n",
       "     'url': 'https://i.scdn.co/image/ab67616d00001e02d2dce56aa1bcef0f5f83691d',\n",
       "     'width': 300},\n",
       "    {'height': 64,\n",
       "     'url': 'https://i.scdn.co/image/ab67616d00004851d2dce56aa1bcef0f5f83691d',\n",
       "     'width': 64}],\n",
       "   'name': 'Orphans (Muzi Remix)',\n",
       "   'release_date': '2019-11-04',\n",
       "   'release_date_precision': 'day',\n",
       "   'total_tracks': 1,\n",
       "   'type': 'album',\n",
       "   'uri': 'spotify:album:2BFaHYLKy6IvNfD0zi5EQW'},\n",
       "  {'album_group': 'single',\n",
       "   'album_type': 'single',\n",
       "   'artists': [{'external_urls': {'spotify': 'https://open.spotify.com/artist/4gzpq5DPGxSnKTe4SA8HAU'},\n",
       "     'href': 'https://api.spotify.com/v1/artists/4gzpq5DPGxSnKTe4SA8HAU',\n",
       "     'id': '4gzpq5DPGxSnKTe4SA8HAU',\n",
       "     'name': 'Coldplay',\n",
       "     'type': 'artist',\n",
       "     'uri': 'spotify:artist:4gzpq5DPGxSnKTe4SA8HAU'}],\n",
       "   'external_urls': {'spotify': 'https://open.spotify.com/album/2lbe1rWHU4a03qZipEaMDB'},\n",
       "   'href': 'https://api.spotify.com/v1/albums/2lbe1rWHU4a03qZipEaMDB',\n",
       "   'id': '2lbe1rWHU4a03qZipEaMDB',\n",
       "   'images': [{'height': 640,\n",
       "     'url': 'https://i.scdn.co/image/ab67616d0000b2739342880330e2518c59eabd81',\n",
       "     'width': 640},\n",
       "    {'height': 300,\n",
       "     'url': 'https://i.scdn.co/image/ab67616d00001e029342880330e2518c59eabd81',\n",
       "     'width': 300},\n",
       "    {'height': 64,\n",
       "     'url': 'https://i.scdn.co/image/ab67616d000048519342880330e2518c59eabd81',\n",
       "     'width': 64}],\n",
       "   'name': 'Everyday Life',\n",
       "   'release_date': '2019-11-03',\n",
       "   'release_date_precision': 'day',\n",
       "   'total_tracks': 3,\n",
       "   'type': 'album',\n",
       "   'uri': 'spotify:album:2lbe1rWHU4a03qZipEaMDB'},\n",
       "  {'album_group': 'single',\n",
       "   'album_type': 'single',\n",
       "   'artists': [{'external_urls': {'spotify': 'https://open.spotify.com/artist/4gzpq5DPGxSnKTe4SA8HAU'},\n",
       "     'href': 'https://api.spotify.com/v1/artists/4gzpq5DPGxSnKTe4SA8HAU',\n",
       "     'id': '4gzpq5DPGxSnKTe4SA8HAU',\n",
       "     'name': 'Coldplay',\n",
       "     'type': 'artist',\n",
       "     'uri': 'spotify:artist:4gzpq5DPGxSnKTe4SA8HAU'}],\n",
       "   'external_urls': {'spotify': 'https://open.spotify.com/album/1SnoyXTgl1jmhfmPwpKDCI'},\n",
       "   'href': 'https://api.spotify.com/v1/albums/1SnoyXTgl1jmhfmPwpKDCI',\n",
       "   'id': '1SnoyXTgl1jmhfmPwpKDCI',\n",
       "   'images': [{'height': 640,\n",
       "     'url': 'https://i.scdn.co/image/ab67616d0000b273d4cd46bd6ae5e9fd45283a1b',\n",
       "     'width': 640},\n",
       "    {'height': 300,\n",
       "     'url': 'https://i.scdn.co/image/ab67616d00001e02d4cd46bd6ae5e9fd45283a1b',\n",
       "     'width': 300},\n",
       "    {'height': 64,\n",
       "     'url': 'https://i.scdn.co/image/ab67616d00004851d4cd46bd6ae5e9fd45283a1b',\n",
       "     'width': 64}],\n",
       "   'name': 'Orphans / Arabesque',\n",
       "   'release_date': '2019-10-24',\n",
       "   'release_date_precision': 'day',\n",
       "   'total_tracks': 2,\n",
       "   'type': 'album',\n",
       "   'uri': 'spotify:album:1SnoyXTgl1jmhfmPwpKDCI'},\n",
       "  {'album_group': 'single',\n",
       "   'album_type': 'single',\n",
       "   'artists': [{'external_urls': {'spotify': 'https://open.spotify.com/artist/4gzpq5DPGxSnKTe4SA8HAU'},\n",
       "     'href': 'https://api.spotify.com/v1/artists/4gzpq5DPGxSnKTe4SA8HAU',\n",
       "     'id': '4gzpq5DPGxSnKTe4SA8HAU',\n",
       "     'name': 'Coldplay',\n",
       "     'type': 'artist',\n",
       "     'uri': 'spotify:artist:4gzpq5DPGxSnKTe4SA8HAU'}],\n",
       "   'external_urls': {'spotify': 'https://open.spotify.com/album/6DX4K0afv5l01Pf6lymJuB'},\n",
       "   'href': 'https://api.spotify.com/v1/albums/6DX4K0afv5l01Pf6lymJuB',\n",
       "   'id': '6DX4K0afv5l01Pf6lymJuB',\n",
       "   'images': [{'height': 640,\n",
       "     'url': 'https://i.scdn.co/image/ab67616d0000b273f8f2ae53da4aee1e5d7f1926',\n",
       "     'width': 640},\n",
       "    {'height': 300,\n",
       "     'url': 'https://i.scdn.co/image/ab67616d00001e02f8f2ae53da4aee1e5d7f1926',\n",
       "     'width': 300},\n",
       "    {'height': 64,\n",
       "     'url': 'https://i.scdn.co/image/ab67616d00004851f8f2ae53da4aee1e5d7f1926',\n",
       "     'width': 64}],\n",
       "   'name': 'Orphans / Arabesque',\n",
       "   'release_date': '2019-10-24',\n",
       "   'release_date_precision': 'day',\n",
       "   'total_tracks': 2,\n",
       "   'type': 'album',\n",
       "   'uri': 'spotify:album:6DX4K0afv5l01Pf6lymJuB'},\n",
       "  {'album_group': 'single',\n",
       "   'album_type': 'single',\n",
       "   'artists': [{'external_urls': {'spotify': 'https://open.spotify.com/artist/4gzpq5DPGxSnKTe4SA8HAU'},\n",
       "     'href': 'https://api.spotify.com/v1/artists/4gzpq5DPGxSnKTe4SA8HAU',\n",
       "     'id': '4gzpq5DPGxSnKTe4SA8HAU',\n",
       "     'name': 'Coldplay',\n",
       "     'type': 'artist',\n",
       "     'uri': 'spotify:artist:4gzpq5DPGxSnKTe4SA8HAU'}],\n",
       "   'external_urls': {'spotify': 'https://open.spotify.com/album/03xqQj7XQVURFr9sQPAaW3'},\n",
       "   'href': 'https://api.spotify.com/v1/albums/03xqQj7XQVURFr9sQPAaW3',\n",
       "   'id': '03xqQj7XQVURFr9sQPAaW3',\n",
       "   'images': [{'height': 640,\n",
       "     'url': 'https://i.scdn.co/image/ab67616d0000b2736db1fd340ca070eb34e7884d',\n",
       "     'width': 640},\n",
       "    {'height': 300,\n",
       "     'url': 'https://i.scdn.co/image/ab67616d00001e026db1fd340ca070eb34e7884d',\n",
       "     'width': 300},\n",
       "    {'height': 64,\n",
       "     'url': 'https://i.scdn.co/image/ab67616d000048516db1fd340ca070eb34e7884d',\n",
       "     'width': 64}],\n",
       "   'name': 'A Head Full of Dreams (Live in Buenos Aires)',\n",
       "   'release_date': '2018-11-29',\n",
       "   'release_date_precision': 'day',\n",
       "   'total_tracks': 1,\n",
       "   'type': 'album',\n",
       "   'uri': 'spotify:album:03xqQj7XQVURFr9sQPAaW3'},\n",
       "  {'album_group': 'single',\n",
       "   'album_type': 'single',\n",
       "   'artists': [{'external_urls': {'spotify': 'https://open.spotify.com/artist/4gzpq5DPGxSnKTe4SA8HAU'},\n",
       "     'href': 'https://api.spotify.com/v1/artists/4gzpq5DPGxSnKTe4SA8HAU',\n",
       "     'id': '4gzpq5DPGxSnKTe4SA8HAU',\n",
       "     'name': 'Coldplay',\n",
       "     'type': 'artist',\n",
       "     'uri': 'spotify:artist:4gzpq5DPGxSnKTe4SA8HAU'}],\n",
       "   'external_urls': {'spotify': 'https://open.spotify.com/album/5g86lbcRBgzbPEmtUkk1lO'},\n",
       "   'href': 'https://api.spotify.com/v1/albums/5g86lbcRBgzbPEmtUkk1lO',\n",
       "   'id': '5g86lbcRBgzbPEmtUkk1lO',\n",
       "   'images': [{'height': 640,\n",
       "     'url': 'https://i.scdn.co/image/ab67616d0000b273c75965613136c5a29ca37856',\n",
       "     'width': 640},\n",
       "    {'height': 300,\n",
       "     'url': 'https://i.scdn.co/image/ab67616d00001e02c75965613136c5a29ca37856',\n",
       "     'width': 300},\n",
       "    {'height': 64,\n",
       "     'url': 'https://i.scdn.co/image/ab67616d00004851c75965613136c5a29ca37856',\n",
       "     'width': 64}],\n",
       "   'name': 'Fix You (Live in Buenos Aires)',\n",
       "   'release_date': '2018-11-01',\n",
       "   'release_date_precision': 'day',\n",
       "   'total_tracks': 1,\n",
       "   'type': 'album',\n",
       "   'uri': 'spotify:album:5g86lbcRBgzbPEmtUkk1lO'}],\n",
       " 'limit': 20,\n",
       " 'next': 'https://api.spotify.com/v1/artists/4gzpq5DPGxSnKTe4SA8HAU/albums?offset=20&limit=20&include_groups=album,single,compilation,appears_on&market=CL',\n",
       " 'offset': 0,\n",
       " 'previous': None,\n",
       " 'total': 268}"
      ]
     },
     "execution_count": 127,
     "metadata": {},
     "output_type": "execute_result"
    }
   ],
   "source": [
    "albums_im.json()"
   ]
  },
  {
   "cell_type": "code",
   "execution_count": 133,
   "metadata": {},
   "outputs": [
    {
     "data": {
      "text/plain": [
       "[('2FeyIYDDAQqcOJKOKhvHdr', 'Everyday Life'),\n",
       " ('4dBp8rzdqH9unSndGk6g6o', 'Everyday Life'),\n",
       " ('19CvkGjYpifkdwgVJSbog2', 'Live in Buenos Aires'),\n",
       " ('3cfAM8b8KqJRoIzt3zLKqw', 'A Head Full of Dreams'),\n",
       " ('1hNS0RsxPTFjmKXCgmjSLS', 'Ghost Stories Live 2014'),\n",
       " ('2G4AUqfwxcV1UdQjm2ouYr', 'Ghost Stories'),\n",
       " ('2R7iJz5uaHjLEVnMkloO18', 'Mylo Xyloto'),\n",
       " ('71pRFAwHBLrjKYRG7V1Q2o', \"Viva La Vida (Prospekt's March Edition)\"),\n",
       " ('1CEODgTmTwLyabvwd7HBty', 'Viva La Vida or Death and All His Friends'),\n",
       " ('4E7bV0pzG0LciBSWTszra6', 'X&Y'),\n",
       " ('0RHX9XECH8IVI3LNgWDpmQ', 'A Rush of Blood to the Head'),\n",
       " ('6ZG5lRT77aJ3btmArcykra', 'Parachutes'),\n",
       " ('1YFEfpOP0NJFr4my1WZJgA', \"Champion Of The World (Live at NPR's Tiny Desk)\"),\n",
       " ('1qAJNklFUgIft4H4mzxg4j', 'Champion of The World / Daddy'),\n",
       " ('2BFaHYLKy6IvNfD0zi5EQW', 'Orphans (Muzi Remix)'),\n",
       " ('2lbe1rWHU4a03qZipEaMDB', 'Everyday Life'),\n",
       " ('1SnoyXTgl1jmhfmPwpKDCI', 'Orphans / Arabesque'),\n",
       " ('6DX4K0afv5l01Pf6lymJuB', 'Orphans / Arabesque'),\n",
       " ('03xqQj7XQVURFr9sQPAaW3', 'A Head Full of Dreams (Live in Buenos Aires)'),\n",
       " ('5g86lbcRBgzbPEmtUkk1lO', 'Fix You (Live in Buenos Aires)')]"
      ]
     },
     "execution_count": 133,
     "metadata": {},
     "output_type": "execute_result"
    }
   ],
   "source": [
    "lista_albums = [(album[\"id\"],album[\"name\"]) for album in albums_im.json()[\"items\"]]\n",
    "lista_albums"
   ]
  },
  {
   "cell_type": "code",
   "execution_count": 135,
   "metadata": {},
   "outputs": [
    {
     "data": {
      "text/plain": [
       "<Response [200]>"
      ]
     },
     "execution_count": 135,
     "metadata": {},
     "output_type": "execute_result"
    }
   ],
   "source": [
    "album_ep = \"/albums/{album_id}\"\n",
    "album_params  = {\"market\": \"CL\"}\n",
    "parachutes_id = \"6ZG5lRT77aJ3btmArcykra\"\n",
    "parachutes = requests.get(url_base+album_ep.format(album_id=parachutes_id)+\"/tracks\", \n",
    "                          headers=header, \n",
    "                          params=album_params)\n",
    "parachutes"
   ]
  },
  {
   "cell_type": "code",
   "execution_count": 136,
   "metadata": {},
   "outputs": [
    {
     "data": {
      "text/plain": [
       "{'href': 'https://api.spotify.com/v1/albums/6ZG5lRT77aJ3btmArcykra/tracks?offset=0&limit=20&market=CL',\n",
       " 'items': [{'artists': [{'external_urls': {'spotify': 'https://open.spotify.com/artist/4gzpq5DPGxSnKTe4SA8HAU'},\n",
       "     'href': 'https://api.spotify.com/v1/artists/4gzpq5DPGxSnKTe4SA8HAU',\n",
       "     'id': '4gzpq5DPGxSnKTe4SA8HAU',\n",
       "     'name': 'Coldplay',\n",
       "     'type': 'artist',\n",
       "     'uri': 'spotify:artist:4gzpq5DPGxSnKTe4SA8HAU'}],\n",
       "   'disc_number': 1,\n",
       "   'duration_ms': 136866,\n",
       "   'explicit': False,\n",
       "   'external_urls': {'spotify': 'https://open.spotify.com/track/2QhURnm7mQDxBb5jWkbDug'},\n",
       "   'href': 'https://api.spotify.com/v1/tracks/2QhURnm7mQDxBb5jWkbDug',\n",
       "   'id': '2QhURnm7mQDxBb5jWkbDug',\n",
       "   'is_local': False,\n",
       "   'is_playable': True,\n",
       "   'name': \"Don't Panic\",\n",
       "   'preview_url': 'https://p.scdn.co/mp3-preview/16934eff613fc29419342949db940ff154750a50?cid=6a18235add874fbea78ebe65519ded9c',\n",
       "   'track_number': 1,\n",
       "   'type': 'track',\n",
       "   'uri': 'spotify:track:2QhURnm7mQDxBb5jWkbDug'},\n",
       "  {'artists': [{'external_urls': {'spotify': 'https://open.spotify.com/artist/4gzpq5DPGxSnKTe4SA8HAU'},\n",
       "     'href': 'https://api.spotify.com/v1/artists/4gzpq5DPGxSnKTe4SA8HAU',\n",
       "     'id': '4gzpq5DPGxSnKTe4SA8HAU',\n",
       "     'name': 'Coldplay',\n",
       "     'type': 'artist',\n",
       "     'uri': 'spotify:artist:4gzpq5DPGxSnKTe4SA8HAU'}],\n",
       "   'disc_number': 1,\n",
       "   'duration_ms': 304200,\n",
       "   'explicit': False,\n",
       "   'external_urls': {'spotify': 'https://open.spotify.com/track/0qksx8mV28lztYIZ1om8ml'},\n",
       "   'href': 'https://api.spotify.com/v1/tracks/0qksx8mV28lztYIZ1om8ml',\n",
       "   'id': '0qksx8mV28lztYIZ1om8ml',\n",
       "   'is_local': False,\n",
       "   'is_playable': True,\n",
       "   'name': 'Shiver',\n",
       "   'preview_url': 'https://p.scdn.co/mp3-preview/e5d7ba8dddc6e3e1d4ddb99d57abc25c1e461cfa?cid=6a18235add874fbea78ebe65519ded9c',\n",
       "   'track_number': 2,\n",
       "   'type': 'track',\n",
       "   'uri': 'spotify:track:0qksx8mV28lztYIZ1om8ml'},\n",
       "  {'artists': [{'external_urls': {'spotify': 'https://open.spotify.com/artist/4gzpq5DPGxSnKTe4SA8HAU'},\n",
       "     'href': 'https://api.spotify.com/v1/artists/4gzpq5DPGxSnKTe4SA8HAU',\n",
       "     'id': '4gzpq5DPGxSnKTe4SA8HAU',\n",
       "     'name': 'Coldplay',\n",
       "     'type': 'artist',\n",
       "     'uri': 'spotify:artist:4gzpq5DPGxSnKTe4SA8HAU'}],\n",
       "   'disc_number': 1,\n",
       "   'duration_ms': 318773,\n",
       "   'explicit': False,\n",
       "   'external_urls': {'spotify': 'https://open.spotify.com/track/2mLgOcRkEgq89j8WstUpui'},\n",
       "   'href': 'https://api.spotify.com/v1/tracks/2mLgOcRkEgq89j8WstUpui',\n",
       "   'id': '2mLgOcRkEgq89j8WstUpui',\n",
       "   'is_local': False,\n",
       "   'is_playable': True,\n",
       "   'name': 'Spies',\n",
       "   'preview_url': 'https://p.scdn.co/mp3-preview/38856a1f6665c8701dc26ab691a20e8899a80870?cid=6a18235add874fbea78ebe65519ded9c',\n",
       "   'track_number': 3,\n",
       "   'type': 'track',\n",
       "   'uri': 'spotify:track:2mLgOcRkEgq89j8WstUpui'},\n",
       "  {'artists': [{'external_urls': {'spotify': 'https://open.spotify.com/artist/4gzpq5DPGxSnKTe4SA8HAU'},\n",
       "     'href': 'https://api.spotify.com/v1/artists/4gzpq5DPGxSnKTe4SA8HAU',\n",
       "     'id': '4gzpq5DPGxSnKTe4SA8HAU',\n",
       "     'name': 'Coldplay',\n",
       "     'type': 'artist',\n",
       "     'uri': 'spotify:artist:4gzpq5DPGxSnKTe4SA8HAU'}],\n",
       "   'disc_number': 1,\n",
       "   'duration_ms': 227093,\n",
       "   'explicit': False,\n",
       "   'external_urls': {'spotify': 'https://open.spotify.com/track/7D0RhFcb3CrfPuTJ0obrod'},\n",
       "   'href': 'https://api.spotify.com/v1/tracks/7D0RhFcb3CrfPuTJ0obrod',\n",
       "   'id': '7D0RhFcb3CrfPuTJ0obrod',\n",
       "   'is_local': False,\n",
       "   'is_playable': True,\n",
       "   'name': 'Sparks',\n",
       "   'preview_url': 'https://p.scdn.co/mp3-preview/43efa81d559a0223fb8bbd48b0402941694198e8?cid=6a18235add874fbea78ebe65519ded9c',\n",
       "   'track_number': 4,\n",
       "   'type': 'track',\n",
       "   'uri': 'spotify:track:7D0RhFcb3CrfPuTJ0obrod'},\n",
       "  {'artists': [{'external_urls': {'spotify': 'https://open.spotify.com/artist/4gzpq5DPGxSnKTe4SA8HAU'},\n",
       "     'href': 'https://api.spotify.com/v1/artists/4gzpq5DPGxSnKTe4SA8HAU',\n",
       "     'id': '4gzpq5DPGxSnKTe4SA8HAU',\n",
       "     'name': 'Coldplay',\n",
       "     'type': 'artist',\n",
       "     'uri': 'spotify:artist:4gzpq5DPGxSnKTe4SA8HAU'}],\n",
       "   'disc_number': 1,\n",
       "   'duration_ms': 266773,\n",
       "   'explicit': False,\n",
       "   'external_urls': {'spotify': 'https://open.spotify.com/track/3AJwUDP919kvQ9QcozQPxg'},\n",
       "   'href': 'https://api.spotify.com/v1/tracks/3AJwUDP919kvQ9QcozQPxg',\n",
       "   'id': '3AJwUDP919kvQ9QcozQPxg',\n",
       "   'is_local': False,\n",
       "   'is_playable': True,\n",
       "   'name': 'Yellow',\n",
       "   'preview_url': 'https://p.scdn.co/mp3-preview/c119ca773ef844108da21c4679dc54c007cf0926?cid=6a18235add874fbea78ebe65519ded9c',\n",
       "   'track_number': 5,\n",
       "   'type': 'track',\n",
       "   'uri': 'spotify:track:3AJwUDP919kvQ9QcozQPxg'},\n",
       "  {'artists': [{'external_urls': {'spotify': 'https://open.spotify.com/artist/4gzpq5DPGxSnKTe4SA8HAU'},\n",
       "     'href': 'https://api.spotify.com/v1/artists/4gzpq5DPGxSnKTe4SA8HAU',\n",
       "     'id': '4gzpq5DPGxSnKTe4SA8HAU',\n",
       "     'name': 'Coldplay',\n",
       "     'type': 'artist',\n",
       "     'uri': 'spotify:artist:4gzpq5DPGxSnKTe4SA8HAU'}],\n",
       "   'disc_number': 1,\n",
       "   'duration_ms': 273426,\n",
       "   'explicit': False,\n",
       "   'external_urls': {'spotify': 'https://open.spotify.com/track/0R8P9KfGJCDULmlEoBagcO'},\n",
       "   'href': 'https://api.spotify.com/v1/tracks/0R8P9KfGJCDULmlEoBagcO',\n",
       "   'id': '0R8P9KfGJCDULmlEoBagcO',\n",
       "   'is_local': False,\n",
       "   'is_playable': True,\n",
       "   'name': 'Trouble',\n",
       "   'preview_url': 'https://p.scdn.co/mp3-preview/d304ea35aada75a163b7cf6eeb4fddb6090b76de?cid=6a18235add874fbea78ebe65519ded9c',\n",
       "   'track_number': 6,\n",
       "   'type': 'track',\n",
       "   'uri': 'spotify:track:0R8P9KfGJCDULmlEoBagcO'},\n",
       "  {'artists': [{'external_urls': {'spotify': 'https://open.spotify.com/artist/4gzpq5DPGxSnKTe4SA8HAU'},\n",
       "     'href': 'https://api.spotify.com/v1/artists/4gzpq5DPGxSnKTe4SA8HAU',\n",
       "     'id': '4gzpq5DPGxSnKTe4SA8HAU',\n",
       "     'name': 'Coldplay',\n",
       "     'type': 'artist',\n",
       "     'uri': 'spotify:artist:4gzpq5DPGxSnKTe4SA8HAU'}],\n",
       "   'disc_number': 1,\n",
       "   'duration_ms': 46200,\n",
       "   'explicit': False,\n",
       "   'external_urls': {'spotify': 'https://open.spotify.com/track/4qzoHxgp42ylb18ga1SWTL'},\n",
       "   'href': 'https://api.spotify.com/v1/tracks/4qzoHxgp42ylb18ga1SWTL',\n",
       "   'id': '4qzoHxgp42ylb18ga1SWTL',\n",
       "   'is_local': False,\n",
       "   'is_playable': True,\n",
       "   'name': 'Parachutes',\n",
       "   'preview_url': 'https://p.scdn.co/mp3-preview/a6c1f3e08fbd51ee80a6a5f29df6b46601096302?cid=6a18235add874fbea78ebe65519ded9c',\n",
       "   'track_number': 7,\n",
       "   'type': 'track',\n",
       "   'uri': 'spotify:track:4qzoHxgp42ylb18ga1SWTL'},\n",
       "  {'artists': [{'external_urls': {'spotify': 'https://open.spotify.com/artist/4gzpq5DPGxSnKTe4SA8HAU'},\n",
       "     'href': 'https://api.spotify.com/v1/artists/4gzpq5DPGxSnKTe4SA8HAU',\n",
       "     'id': '4gzpq5DPGxSnKTe4SA8HAU',\n",
       "     'name': 'Coldplay',\n",
       "     'type': 'artist',\n",
       "     'uri': 'spotify:artist:4gzpq5DPGxSnKTe4SA8HAU'}],\n",
       "   'disc_number': 1,\n",
       "   'duration_ms': 256466,\n",
       "   'explicit': False,\n",
       "   'external_urls': {'spotify': 'https://open.spotify.com/track/2DHgvPQD1jApRnT1DBZdrS'},\n",
       "   'href': 'https://api.spotify.com/v1/tracks/2DHgvPQD1jApRnT1DBZdrS',\n",
       "   'id': '2DHgvPQD1jApRnT1DBZdrS',\n",
       "   'is_local': False,\n",
       "   'is_playable': True,\n",
       "   'name': 'High Speed',\n",
       "   'preview_url': 'https://p.scdn.co/mp3-preview/861c1fcbe8c7647d4ed751970315552e74f246f9?cid=6a18235add874fbea78ebe65519ded9c',\n",
       "   'track_number': 8,\n",
       "   'type': 'track',\n",
       "   'uri': 'spotify:track:2DHgvPQD1jApRnT1DBZdrS'},\n",
       "  {'artists': [{'external_urls': {'spotify': 'https://open.spotify.com/artist/4gzpq5DPGxSnKTe4SA8HAU'},\n",
       "     'href': 'https://api.spotify.com/v1/artists/4gzpq5DPGxSnKTe4SA8HAU',\n",
       "     'id': '4gzpq5DPGxSnKTe4SA8HAU',\n",
       "     'name': 'Coldplay',\n",
       "     'type': 'artist',\n",
       "     'uri': 'spotify:artist:4gzpq5DPGxSnKTe4SA8HAU'}],\n",
       "   'disc_number': 1,\n",
       "   'duration_ms': 249400,\n",
       "   'explicit': False,\n",
       "   'external_urls': {'spotify': 'https://open.spotify.com/track/5TB6QgrF0RPIxSCGfRDLoe'},\n",
       "   'href': 'https://api.spotify.com/v1/tracks/5TB6QgrF0RPIxSCGfRDLoe',\n",
       "   'id': '5TB6QgrF0RPIxSCGfRDLoe',\n",
       "   'is_local': False,\n",
       "   'is_playable': True,\n",
       "   'name': 'We Never Change',\n",
       "   'preview_url': 'https://p.scdn.co/mp3-preview/258325aacfde147fcffcf0945780875f236bc7ed?cid=6a18235add874fbea78ebe65519ded9c',\n",
       "   'track_number': 9,\n",
       "   'type': 'track',\n",
       "   'uri': 'spotify:track:5TB6QgrF0RPIxSCGfRDLoe'},\n",
       "  {'artists': [{'external_urls': {'spotify': 'https://open.spotify.com/artist/4gzpq5DPGxSnKTe4SA8HAU'},\n",
       "     'href': 'https://api.spotify.com/v1/artists/4gzpq5DPGxSnKTe4SA8HAU',\n",
       "     'id': '4gzpq5DPGxSnKTe4SA8HAU',\n",
       "     'name': 'Coldplay',\n",
       "     'type': 'artist',\n",
       "     'uri': 'spotify:artist:4gzpq5DPGxSnKTe4SA8HAU'}],\n",
       "   'disc_number': 1,\n",
       "   'duration_ms': 436440,\n",
       "   'explicit': False,\n",
       "   'external_urls': {'spotify': 'https://open.spotify.com/track/1RNtm45kw0hPMBz7gKiIYu'},\n",
       "   'href': 'https://api.spotify.com/v1/tracks/1RNtm45kw0hPMBz7gKiIYu',\n",
       "   'id': '1RNtm45kw0hPMBz7gKiIYu',\n",
       "   'is_local': False,\n",
       "   'is_playable': True,\n",
       "   'name': \"Everything's Not Lost - Includes Hidden Track 'Life Is For Living'\",\n",
       "   'preview_url': 'https://p.scdn.co/mp3-preview/1c5532cda0a895dc3ebfca227ce70b9f150cb70e?cid=6a18235add874fbea78ebe65519ded9c',\n",
       "   'track_number': 10,\n",
       "   'type': 'track',\n",
       "   'uri': 'spotify:track:1RNtm45kw0hPMBz7gKiIYu'}],\n",
       " 'limit': 20,\n",
       " 'next': None,\n",
       " 'offset': 0,\n",
       " 'previous': None,\n",
       " 'total': 10}"
      ]
     },
     "execution_count": 136,
     "metadata": {},
     "output_type": "execute_result"
    }
   ],
   "source": [
    "parachutes.json()"
   ]
  },
  {
   "cell_type": "code",
   "execution_count": 137,
   "metadata": {},
   "outputs": [
    {
     "data": {
      "text/plain": [
       "[('2QhURnm7mQDxBb5jWkbDug', \"Don't Panic\"),\n",
       " ('0qksx8mV28lztYIZ1om8ml', 'Shiver'),\n",
       " ('2mLgOcRkEgq89j8WstUpui', 'Spies'),\n",
       " ('7D0RhFcb3CrfPuTJ0obrod', 'Sparks'),\n",
       " ('3AJwUDP919kvQ9QcozQPxg', 'Yellow'),\n",
       " ('0R8P9KfGJCDULmlEoBagcO', 'Trouble'),\n",
       " ('4qzoHxgp42ylb18ga1SWTL', 'Parachutes'),\n",
       " ('2DHgvPQD1jApRnT1DBZdrS', 'High Speed'),\n",
       " ('5TB6QgrF0RPIxSCGfRDLoe', 'We Never Change'),\n",
       " ('1RNtm45kw0hPMBz7gKiIYu',\n",
       "  \"Everything's Not Lost - Includes Hidden Track 'Life Is For Living'\")]"
      ]
     },
     "execution_count": 137,
     "metadata": {},
     "output_type": "execute_result"
    }
   ],
   "source": [
    "[(track[\"id\"],track[\"name\"]) for track in parachutes.json()[\"items\"]]"
   ]
  },
  {
   "cell_type": "code",
   "execution_count": null,
   "metadata": {},
   "outputs": [],
   "source": []
  }
 ],
 "metadata": {
  "kernelspec": {
   "display_name": "Python 3",
   "language": "python",
   "name": "python3"
  },
  "language_info": {
   "codemirror_mode": {
    "name": "ipython",
    "version": 3
   },
   "file_extension": ".py",
   "mimetype": "text/x-python",
   "name": "python",
   "nbconvert_exporter": "python",
   "pygments_lexer": "ipython3",
   "version": "3.8.3"
  }
 },
 "nbformat": 4,
 "nbformat_minor": 4
}
