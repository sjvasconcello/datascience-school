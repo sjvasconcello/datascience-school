{
 "cells": [
  {
   "cell_type": "code",
   "execution_count": 1,
   "metadata": {},
   "outputs": [],
   "source": [
    "from pyspark.sql import SparkSession"
   ]
  },
  {
   "cell_type": "code",
   "execution_count": 2,
   "metadata": {},
   "outputs": [],
   "source": [
    "spark = SparkSession.builder.appName(\"Particionado\")\\\n",
    "        .master(\"local[5]\").getOrCreate()"
   ]
  },
  {
   "cell_type": "code",
   "execution_count": 5,
   "metadata": {},
   "outputs": [
    {
     "data": {
      "text/plain": [
       "5"
      ]
     },
     "execution_count": 5,
     "metadata": {},
     "output_type": "execute_result"
    }
   ],
   "source": [
    "df = spark.range(0,20)\n",
    "df.rdd.getNumPartitions()"
   ]
  },
  {
   "cell_type": "code",
   "execution_count": 7,
   "metadata": {},
   "outputs": [
    {
     "data": {
      "text/plain": [
       "10"
      ]
     },
     "execution_count": 7,
     "metadata": {},
     "output_type": "execute_result"
    }
   ],
   "source": [
    "rdd1 = spark.sparkContext.parallelize((0,20),10)\n",
    "rdd1.getNumPartitions()"
   ]
  },
  {
   "cell_type": "code",
   "execution_count": 8,
   "metadata": {},
   "outputs": [],
   "source": [
    "rddDesdeArchivo = spark.sparkContext\\\n",
    "                    .textFile(\"./data/deporte.csv\",10)"
   ]
  },
  {
   "cell_type": "code",
   "execution_count": 9,
   "metadata": {},
   "outputs": [
    {
     "data": {
      "text/plain": [
       "10"
      ]
     },
     "execution_count": 9,
     "metadata": {},
     "output_type": "execute_result"
    }
   ],
   "source": [
    "rddDesdeArchivo.getNumPartitions()"
   ]
  },
  {
   "cell_type": "code",
   "execution_count": 10,
   "metadata": {},
   "outputs": [],
   "source": [
    "rddDesdeArchivo.saveAsTextFile(\"./salidatexto\")"
   ]
  },
  {
   "cell_type": "code",
   "execution_count": 11,
   "metadata": {},
   "outputs": [
    {
     "name": "stdout",
     "output_type": "stream",
     "text": [
      "part-00000  part-00002\tpart-00004  part-00006\tpart-00008  _SUCCESS\r\n",
      "part-00001  part-00003\tpart-00005  part-00007\tpart-00009\r\n"
     ]
    }
   ],
   "source": [
    "!ls ./salidatexto"
   ]
  },
  {
   "cell_type": "code",
   "execution_count": 15,
   "metadata": {},
   "outputs": [
    {
     "name": "stdout",
     "output_type": "stream",
     "text": [
      "36,Softball\r\n",
      "37,Archery\r\n",
      "38,Volleyball\r\n",
      "39,Synchronized Swimming\r\n",
      "40,Table Tennis\r\n"
     ]
    }
   ],
   "source": [
    "!head -n 5 ./salidatexto/part-00005"
   ]
  },
  {
   "cell_type": "code",
   "execution_count": 16,
   "metadata": {},
   "outputs": [
    {
     "data": {
      "text/plain": [
       "[('file:/home/sjvasconcello/Documents/datascience-school/spark/salidatexto/part-00000',\n",
       "  'deporte_id,deporte\\n1,Basketball\\n2,Judo\\n3,Football\\n4,Tug-Of-War\\n5,Speed Skating\\n6,Cross Country Skiing\\n'),\n",
       " ('file:/home/sjvasconcello/Documents/datascience-school/spark/salidatexto/part-00005',\n",
       "  '36,Softball\\n37,Archery\\n38,Volleyball\\n39,Synchronized Swimming\\n40,Table Tennis\\n41,Nordic Combined\\n'),\n",
       " ('file:/home/sjvasconcello/Documents/datascience-school/spark/salidatexto/part-00009',\n",
       "  '61,Croquet\\n62,Jeu De Paume\\n63,Roque\\n64,Alpinism\\n65,Basque Pelota\\n66,Aeronautics\\n'),\n",
       " ('file:/home/sjvasconcello/Documents/datascience-school/spark/salidatexto/part-00002',\n",
       "  '15,Alpine Skiing\\n16,Handball\\n17,Weightlifting\\n18,Wrestling\\n19,Luge\\n20,Water Polo\\n')]"
      ]
     },
     "execution_count": 16,
     "metadata": {},
     "output_type": "execute_result"
    }
   ],
   "source": [
    "rdd = spark.sparkContext.wholeTextFiles(\"./salidatexto\")\n",
    "rdd.take(4)"
   ]
  },
  {
   "cell_type": "code",
   "execution_count": 19,
   "metadata": {},
   "outputs": [],
   "source": [
    "lista = rdd.mapValues(lambda x: x.split(\",\")).collect()"
   ]
  },
  {
   "cell_type": "code",
   "execution_count": 21,
   "metadata": {},
   "outputs": [],
   "source": [
    "lista = [l[0] for l in lista]\n",
    "lista.sort()"
   ]
  },
  {
   "cell_type": "code",
   "execution_count": 22,
   "metadata": {},
   "outputs": [
    {
     "data": {
      "text/plain": [
       "['file:/home/sjvasconcello/Documents/datascience-school/spark/salidatexto/part-00000',\n",
       " 'file:/home/sjvasconcello/Documents/datascience-school/spark/salidatexto/part-00001',\n",
       " 'file:/home/sjvasconcello/Documents/datascience-school/spark/salidatexto/part-00002',\n",
       " 'file:/home/sjvasconcello/Documents/datascience-school/spark/salidatexto/part-00003',\n",
       " 'file:/home/sjvasconcello/Documents/datascience-school/spark/salidatexto/part-00004',\n",
       " 'file:/home/sjvasconcello/Documents/datascience-school/spark/salidatexto/part-00005',\n",
       " 'file:/home/sjvasconcello/Documents/datascience-school/spark/salidatexto/part-00006',\n",
       " 'file:/home/sjvasconcello/Documents/datascience-school/spark/salidatexto/part-00007',\n",
       " 'file:/home/sjvasconcello/Documents/datascience-school/spark/salidatexto/part-00008',\n",
       " 'file:/home/sjvasconcello/Documents/datascience-school/spark/salidatexto/part-00009']"
      ]
     },
     "execution_count": 22,
     "metadata": {},
     "output_type": "execute_result"
    }
   ],
   "source": [
    "lista"
   ]
  },
  {
   "cell_type": "code",
   "execution_count": 23,
   "metadata": {},
   "outputs": [],
   "source": [
    "rdd2 = spark.sparkContext\\\n",
    "        .textFile(\",\".join(lista), 10).map(lambda l: l.split(\",\"))\n"
   ]
  },
  {
   "cell_type": "code",
   "execution_count": 25,
   "metadata": {},
   "outputs": [
    {
     "data": {
      "text/plain": [
       "[['deporte_id', 'deporte'],\n",
       " ['1', 'Basketball'],\n",
       " ['2', 'Judo'],\n",
       " ['3', 'Football'],\n",
       " ['4', 'Tug-Of-War']]"
      ]
     },
     "execution_count": 25,
     "metadata": {},
     "output_type": "execute_result"
    }
   ],
   "source": [
    "rdd2.take(5)"
   ]
  },
  {
   "cell_type": "code",
   "execution_count": 26,
   "metadata": {},
   "outputs": [],
   "source": [
    "spark.stop()"
   ]
  },
  {
   "cell_type": "code",
   "execution_count": null,
   "metadata": {},
   "outputs": [],
   "source": []
  }
 ],
 "metadata": {
  "kernelspec": {
   "display_name": "Python 3",
   "language": "python",
   "name": "python3"
  },
  "language_info": {
   "codemirror_mode": {
    "name": "ipython",
    "version": 3
   },
   "file_extension": ".py",
   "mimetype": "text/x-python",
   "name": "python",
   "nbconvert_exporter": "python",
   "pygments_lexer": "ipython3",
   "version": "3.7.9"
  }
 },
 "nbformat": 4,
 "nbformat_minor": 4
}
