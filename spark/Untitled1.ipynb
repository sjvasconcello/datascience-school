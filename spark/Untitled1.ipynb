{
 "cells": [
  {
   "cell_type": "code",
   "execution_count": 1,
   "metadata": {},
   "outputs": [],
   "source": [
    "from pyspark import SparkContext\n",
    "from pyspark.sql import SparkSession\n",
    "\n",
    "from pyspark.sql.types import StructType, StructField, IntegerType, StringType, FloatType\n",
    "from pyspark.sql.types import Row\n",
    "from pyspark.sql import SQLContext"
   ]
  },
  {
   "cell_type": "code",
   "execution_count": 2,
   "metadata": {},
   "outputs": [],
   "source": [
    "spark = SparkContext(master=\"local\", appName=\"DataFrames\")\n",
    "sqlContext = SQLContext(spark)"
   ]
  },
  {
   "cell_type": "code",
   "execution_count": 3,
   "metadata": {},
   "outputs": [
    {
     "name": "stdout",
     "output_type": "stream",
     "text": [
      "data.csv\t deportista.csv       juegos.csv\t     resultados.csv\r\n",
      "deporte.csv\t deportistaError.csv  modelo_relacional.jpg\r\n",
      "deportista2.csv  evento.csv\t      paises.csv\r\n"
     ]
    }
   ],
   "source": [
    "!ls ./data"
   ]
  },
  {
   "cell_type": "code",
   "execution_count": 4,
   "metadata": {},
   "outputs": [],
   "source": [
    "juegoSchema = StructType([\n",
    "    StructField(\"juego_id\", IntegerType(), False),\n",
    "    StructField(\"anio\", StringType(), False),\n",
    "    StructField(\"temporada\",StringType(),False),\n",
    "    StructField(\"ciudad\", StringType(), False)\n",
    "])\n",
    "\n",
    "juegoDF = sqlContext.read.schema(juegoSchema)\\\n",
    "            .option(\"header\", \"true\").csv(\"./data/juegos.csv\")"
   ]
  },
  {
   "cell_type": "code",
   "execution_count": 5,
   "metadata": {},
   "outputs": [
    {
     "name": "stdout",
     "output_type": "stream",
     "text": [
      "+--------+-----------+---------+------+\n",
      "|juego_id|       anio|temporada|ciudad|\n",
      "+--------+-----------+---------+------+\n",
      "|       1|1896 Verano|     1896|Verano|\n",
      "|       2|1900 Verano|     1900|Verano|\n",
      "|       3|1904 Verano|     1904|Verano|\n",
      "|       4|1906 Verano|     1906|Verano|\n",
      "+--------+-----------+---------+------+\n",
      "only showing top 4 rows\n",
      "\n"
     ]
    }
   ],
   "source": [
    "juegoDF.show(4)"
   ]
  },
  {
   "cell_type": "code",
   "execution_count": 6,
   "metadata": {},
   "outputs": [
    {
     "data": {
      "text/html": [
       "\n",
       "        <div>\n",
       "            <p><b>SparkContext</b></p>\n",
       "\n",
       "            <p><a href=\"http://192.168.1.94:4040\">Spark UI</a></p>\n",
       "\n",
       "            <dl>\n",
       "              <dt>Version</dt>\n",
       "                <dd><code>v2.4.7</code></dd>\n",
       "              <dt>Master</dt>\n",
       "                <dd><code>local</code></dd>\n",
       "              <dt>AppName</dt>\n",
       "                <dd><code>DataFrames</code></dd>\n",
       "            </dl>\n",
       "        </div>\n",
       "        "
      ],
      "text/plain": [
       "<SparkContext master=local appName=DataFrames>"
      ]
     },
     "execution_count": 6,
     "metadata": {},
     "output_type": "execute_result"
    }
   ],
   "source": [
    "spark\n"
   ]
  },
  {
   "cell_type": "code",
   "execution_count": 24,
   "metadata": {},
   "outputs": [
    {
     "data": {
      "text/plain": [
       "[['deportista_id', 'nombre', 'genero', 'edad', 'altura', 'peso', 'equipo_id'],\n",
       " ['1', 'A Dijiang', '1', '24', '180', '80', '199'],\n",
       " ['2', 'A Lamusi', '1', '23', '170', '60', '199'],\n",
       " ['3', 'Gunnar Nielsen Aaby', '1', '24', '0', '0', '273'],\n",
       " ['4', 'Edgar Lindenau Aabye', '1', '34', '0', '0', '278']]"
      ]
     },
     "execution_count": 24,
     "metadata": {},
     "output_type": "execute_result"
    }
   ],
   "source": [
    "deportistaOlimpicoRDD = spark.textFile(\"./data/deportista.csv\") \\\n",
    "    .map(lambda l: l.split(\",\"))\n",
    "deportistaolimpicoRDD2 = spark.textFile(\"./data/deportista2.csv\") \\\n",
    "    .map(lambda l: l.split(\",\"))\n",
    "# Concatenacion\n",
    "deportistaOlimpicoRDD = deportistaOlimpicoRDD.union(deportistaolimpicoRDD2)\n",
    "deportistaOlimpicoRDD.take(5)"
   ]
  },
  {
   "cell_type": "code",
   "execution_count": 25,
   "metadata": {},
   "outputs": [],
   "source": [
    "def delete_header(index, iterator):\n",
    "    return iter(list(iterator)[1:])"
   ]
  },
  {
   "cell_type": "code",
   "execution_count": 26,
   "metadata": {},
   "outputs": [],
   "source": [
    "deportistaOlimpicoRDD = deportistaOlimpicoRDD \\\n",
    "                        .mapPartitionsWithIndex(delete_header)"
   ]
  },
  {
   "cell_type": "code",
   "execution_count": 27,
   "metadata": {},
   "outputs": [
    {
     "data": {
      "text/plain": [
       "[['1', 'A Dijiang', '1', '24', '180', '80', '199'],\n",
       " ['2', 'A Lamusi', '1', '23', '170', '60', '199'],\n",
       " ['3', 'Gunnar Nielsen Aaby', '1', '24', '0', '0', '273'],\n",
       " ['4', 'Edgar Lindenau Aabye', '1', '34', '0', '0', '278'],\n",
       " ['5', 'Christine Jacoba Aaftink', '2', '21', '185', '82', '705']]"
      ]
     },
     "execution_count": 27,
     "metadata": {},
     "output_type": "execute_result"
    }
   ],
   "source": [
    "deportistaOlimpicoRDD.take(5)"
   ]
  },
  {
   "cell_type": "code",
   "execution_count": 32,
   "metadata": {},
   "outputs": [],
   "source": [
    "deportistaOlimpicoRDD = deportistaOlimpicoRDD.map(lambda l: (\n",
    "int(l[0]),l[1],int(l[2]),int(l[3]),int(l[4]),float(l[5]),int(l[6])))"
   ]
  },
  {
   "cell_type": "code",
   "execution_count": 33,
   "metadata": {},
   "outputs": [],
   "source": [
    "schema = StructType([\n",
    "    StructField(\"deportista_id\", IntegerType(), False),\n",
    "    StructField(\"nombre\", StringType(), False),\n",
    "    StructField(\"genero\", IntegerType(), False),\n",
    "    StructField(\"edad\", IntegerType(), False),\n",
    "    StructField(\"altura\", IntegerType(), False),\n",
    "    StructField(\"peso\", FloatType(), False),\n",
    "    StructField(\"equipo_id\", IntegerType(), False)\n",
    "])"
   ]
  },
  {
   "cell_type": "code",
   "execution_count": 66,
   "metadata": {},
   "outputs": [],
   "source": [
    "deportistaOlimpicoDF = sqlContext.createDataFrame(deportistaOlimpicoRDD,schema)"
   ]
  },
  {
   "cell_type": "code",
   "execution_count": 67,
   "metadata": {},
   "outputs": [
    {
     "name": "stdout",
     "output_type": "stream",
     "text": [
      "+-------------+--------------------+------+----+------+----+---------+\n",
      "|deportista_id|              nombre|genero|edad|altura|peso|equipo_id|\n",
      "+-------------+--------------------+------+----+------+----+---------+\n",
      "|            1|           A Dijiang|     1|  24|   180|80.0|      199|\n",
      "|            2|            A Lamusi|     1|  23|   170|60.0|      199|\n",
      "|            3| Gunnar Nielsen Aaby|     1|  24|     0| 0.0|      273|\n",
      "|            4|Edgar Lindenau Aabye|     1|  34|     0| 0.0|      278|\n",
      "|            5|Christine Jacoba ...|     2|  21|   185|82.0|      705|\n",
      "|            6|     Per Knut Aaland|     1|  31|   188|75.0|     1096|\n",
      "|            7|        John Aalberg|     1|  31|   183|72.0|     1096|\n",
      "|            8|Cornelia Cor Aalt...|     2|  18|   168| 0.0|      705|\n",
      "|            9|    Antti Sami Aalto|     1|  26|   186|96.0|      350|\n",
      "|           10|Einar Ferdinand E...|     1|  26|     0| 0.0|      350|\n",
      "+-------------+--------------------+------+----+------+----+---------+\n",
      "only showing top 10 rows\n",
      "\n"
     ]
    }
   ],
   "source": [
    "deportistaOlimpicoDF.show(10)"
   ]
  },
  {
   "cell_type": "code",
   "execution_count": 38,
   "metadata": {},
   "outputs": [
    {
     "name": "stdout",
     "output_type": "stream",
     "text": [
      "data.csv\t deportista.csv       juegos.csv\t     resultados.csv\r\n",
      "deporte.csv\t deportistaError.csv  modelo_relacional.jpg\r\n",
      "deportista2.csv  evento.csv\t      paises.csv\r\n"
     ]
    }
   ],
   "source": [
    "!ls ./data"
   ]
  },
  {
   "cell_type": "code",
   "execution_count": 53,
   "metadata": {},
   "outputs": [],
   "source": [
    "#! cat ./data/evento.csv"
   ]
  },
  {
   "cell_type": "code",
   "execution_count": 45,
   "metadata": {},
   "outputs": [
    {
     "name": "stdout",
     "output_type": "stream",
     "text": [
      "+---------+--------------------+----------+\n",
      "|evento_id|              evento|deporte_id|\n",
      "+---------+--------------------+----------+\n",
      "|        1|Basketball Men's ...|         1|\n",
      "|        2|Judo Men's Extra-...|         2|\n",
      "|        3|Football Men's Fo...|         3|\n",
      "|        4|Tug-Of-War Men's ...|         4|\n",
      "|        5|Speed Skating Wom...|         5|\n",
      "+---------+--------------------+----------+\n",
      "only showing top 5 rows\n",
      "\n"
     ]
    }
   ],
   "source": [
    "schema_evento = StructType([\n",
    "    StructField(\"evento_id\", IntegerType(), False),\n",
    "    StructField(\"evento\", StringType(), False),\n",
    "    StructField(\"deporte_id\", IntegerType(), False),\n",
    "])\n",
    "\n",
    "eventoDF = sqlContext.read.format(\"csv\")\\\n",
    "                .option(\"header\", True)\\\n",
    "                .schema(schema_evento)\\\n",
    "                .load(\"./data/evento.csv\")\n",
    "    \n",
    "eventoDF.show(5)"
   ]
  },
  {
   "cell_type": "code",
   "execution_count": 52,
   "metadata": {},
   "outputs": [],
   "source": [
    "#! cat ./data/paises.csv"
   ]
  },
  {
   "cell_type": "code",
   "execution_count": 49,
   "metadata": {},
   "outputs": [
    {
     "name": "stdout",
     "output_type": "stream",
     "text": [
      "+---+--------------------+-----+\n",
      "| id|              equipo|sigla|\n",
      "+---+--------------------+-----+\n",
      "|  1|         30. Februar|  AUT|\n",
      "|  2|A North American ...|  MEX|\n",
      "|  3|           Acipactli|  MEX|\n",
      "|  4|             Acturus|  ARG|\n",
      "|  5|         Afghanistan|  AFG|\n",
      "+---+--------------------+-----+\n",
      "only showing top 5 rows\n",
      "\n"
     ]
    }
   ],
   "source": [
    "schema_paises = StructType([\n",
    "    StructField(\"id\", IntegerType(), False),\n",
    "    StructField(\"equipo\", StringType(), False),\n",
    "    StructField(\"sigla\", StringType(), False),\n",
    "])\n",
    "\n",
    "paisesDF = sqlContext.read.format(\"csv\")\\\n",
    "                .option(\"header\", True)\\\n",
    "                .schema(schema_paises)\\\n",
    "                .load(\"./data/paises.csv\")\n",
    "    \n",
    "paisesDF.show(5)"
   ]
  },
  {
   "cell_type": "code",
   "execution_count": 51,
   "metadata": {},
   "outputs": [],
   "source": [
    "# ! cat ./data/resultados.csv"
   ]
  },
  {
   "cell_type": "code",
   "execution_count": 50,
   "metadata": {},
   "outputs": [
    {
     "name": "stdout",
     "output_type": "stream",
     "text": [
      "+------------+-------+-------------+--------+---------+\n",
      "|resultado_id|medalla|deportista_id|juego_id|evento_id|\n",
      "+------------+-------+-------------+--------+---------+\n",
      "|           1|     NA|            1|      39|        1|\n",
      "|           2|     NA|            2|      49|        2|\n",
      "|           3|     NA|            3|       7|        3|\n",
      "|           4|   Gold|            4|       2|        4|\n",
      "|           5|     NA|            5|      36|        5|\n",
      "+------------+-------+-------------+--------+---------+\n",
      "only showing top 5 rows\n",
      "\n"
     ]
    }
   ],
   "source": [
    "schema_resultados = StructType([\n",
    "    StructField(\"resultado_id\", IntegerType(), False),\n",
    "    StructField(\"medalla\", StringType(), False),\n",
    "    StructField(\"deportista_id\", IntegerType(), False),\n",
    "    StructField(\"juego_id\", IntegerType(), False),\n",
    "    StructField(\"evento_id\", IntegerType(), False),\n",
    "])\n",
    "\n",
    "resultadosDF = sqlContext.read.format(\"csv\")\\\n",
    "                .option(\"header\", True)\\\n",
    "                .schema(schema_resultados)\\\n",
    "                .load(\"./data/resultados.csv\")\n",
    "    \n",
    "resultadosDF.show(5)"
   ]
  },
  {
   "cell_type": "code",
   "execution_count": 61,
   "metadata": {},
   "outputs": [
    {
     "name": "stdout",
     "output_type": "stream",
     "text": [
      "+---+-------------+\n",
      "| id|      deporte|\n",
      "+---+-------------+\n",
      "|  1|   Basketball|\n",
      "|  2|         Judo|\n",
      "|  3|     Football|\n",
      "|  4|   Tug-Of-War|\n",
      "|  5|Speed Skating|\n",
      "+---+-------------+\n",
      "only showing top 5 rows\n",
      "\n"
     ]
    }
   ],
   "source": [
    "schema_deporte = StructType([\n",
    "    StructField(\"id\", IntegerType(), False),\n",
    "    StructField(\"deporte\", StringType(), False),\n",
    "])\n",
    "\n",
    "deportesDF = sqlContext.read.format(\"csv\")\\\n",
    "                .option(\"header\", True)\\\n",
    "                .schema(schema_deporte)\\\n",
    "                .load(\"./data/deporte.csv\")\n",
    "    \n",
    "deportesDF.show(5)"
   ]
  },
  {
   "cell_type": "code",
   "execution_count": 68,
   "metadata": {},
   "outputs": [
    {
     "name": "stdout",
     "output_type": "stream",
     "text": [
      "root\n",
      " |-- id: integer (nullable = true)\n",
      " |-- deporte: string (nullable = true)\n",
      "\n"
     ]
    }
   ],
   "source": [
    "deporteDF.printSchema()"
   ]
  },
  {
   "cell_type": "code",
   "execution_count": 69,
   "metadata": {},
   "outputs": [
    {
     "name": "stdout",
     "output_type": "stream",
     "text": [
      "root\n",
      " |-- deportista_id: integer (nullable = false)\n",
      " |-- nombre: string (nullable = false)\n",
      " |-- genero: integer (nullable = false)\n",
      " |-- edad: integer (nullable = false)\n",
      " |-- altura: integer (nullable = false)\n",
      " |-- peso: float (nullable = false)\n",
      " |-- equipo_id: integer (nullable = false)\n",
      "\n"
     ]
    }
   ],
   "source": [
    "deportistaOlimpicoDF.printSchema()"
   ]
  },
  {
   "cell_type": "code",
   "execution_count": 70,
   "metadata": {},
   "outputs": [
    {
     "name": "stdout",
     "output_type": "stream",
     "text": [
      "root\n",
      " |-- deportista_id: integer (nullable = false)\n",
      " |-- nombre: string (nullable = false)\n",
      " |-- sexo: integer (nullable = false)\n",
      " |-- edad: integer (nullable = false)\n",
      " |-- peso: float (nullable = false)\n",
      " |-- equipo_id: integer (nullable = false)\n",
      "\n"
     ]
    }
   ],
   "source": [
    "deportistaOlimpicoDF = deportistaOlimpicoDF.withColumnRenamed(\"genero\",\"sexo\").drop(\"altura\")\n",
    "deportistaOlimpicoDF.printSchema()\n"
   ]
  },
  {
   "cell_type": "code",
   "execution_count": 72,
   "metadata": {},
   "outputs": [],
   "source": [
    "from pyspark.sql.functions import *\n",
    "\n",
    "deportistaOlimpicoDF = deportistaOlimpicoDF.select(\"deportista_id\", \n",
    "                            \"nombre\", \n",
    "                            col(\"edad\").alias(\"edadAlJugar\"),\"equipo_id\")"
   ]
  },
  {
   "cell_type": "code",
   "execution_count": 75,
   "metadata": {},
   "outputs": [
    {
     "name": "stdout",
     "output_type": "stream",
     "text": [
      "+-------------+--------------------+-----------+---------+\n",
      "|deportista_id|              nombre|edadAlJugar|equipo_id|\n",
      "+-------------+--------------------+-----------+---------+\n",
      "|            1|           A Dijiang|         24|      199|\n",
      "|            2|            A Lamusi|         23|      199|\n",
      "|            3| Gunnar Nielsen Aaby|         24|      273|\n",
      "|            4|Edgar Lindenau Aabye|         34|      278|\n",
      "|            5|Christine Jacoba ...|         21|      705|\n",
      "+-------------+--------------------+-----------+---------+\n",
      "only showing top 5 rows\n",
      "\n"
     ]
    }
   ],
   "source": [
    "deportistaOlimpicoDF.show(5)"
   ]
  },
  {
   "cell_type": "code",
   "execution_count": 80,
   "metadata": {},
   "outputs": [
    {
     "name": "stdout",
     "output_type": "stream",
     "text": [
      "+-------------+--------------------+-----------+---------+\n",
      "|deportista_id|              nombre|edadAlJugar|equipo_id|\n",
      "+-------------+--------------------+-----------+---------+\n",
      "|        71691|  Dimitrios Loundras|         10|      333|\n",
      "|        70616|          Liu Luyang|         11|      199|\n",
      "|       118925|Megan Olwen Deven...|         11|      413|\n",
      "|        52070|        Etsuko Inada|         11|      514|\n",
      "|        22411|Magdalena Cecilia...|         11|      413|\n",
      "|        40129|    Luigina Giavotti|         11|      507|\n",
      "|        47618|Sonja Henie Toppi...|         11|      742|\n",
      "|        76675|   Marcelle Matthews|         11|      967|\n",
      "|        37333|Carlos Bienvenido...|         11|      982|\n",
      "|        51268|      Beatrice Hutiu|         11|      861|\n",
      "|       126307|        Liana Vicens|         11|      825|\n",
      "|        48939|             Ho Gang|         12|      738|\n",
      "|        49142|        Jan Hoffmann|         12|      302|\n",
      "|        42835|   Werner Grieshofer|         12|       71|\n",
      "|        54620|Belita Gladys Lyn...|         12|      413|\n",
      "|        31203|Patricia Anne Pat...|         12|      967|\n",
      "|        43528|Antoinette Joyce ...|         12|      172|\n",
      "|        46578|        Diana Hatler|         12|      825|\n",
      "|        59727|Marika Kilius Zah...|         12|      399|\n",
      "|        40296|    Alain C. Giletti|         12|      362|\n",
      "+-------------+--------------------+-----------+---------+\n",
      "only showing top 20 rows\n",
      "\n"
     ]
    }
   ],
   "source": [
    "deportistaOlimpicoDF.filter(\n",
    "    deportistaOlimpicoDF.edadAlJugar != 0).sort(\"edadAlJugar\").show()"
   ]
  },
  {
   "cell_type": "code",
   "execution_count": null,
   "metadata": {},
   "outputs": [],
   "source": []
  }
 ],
 "metadata": {
  "kernelspec": {
   "display_name": "Python 3",
   "language": "python",
   "name": "python3"
  },
  "language_info": {
   "codemirror_mode": {
    "name": "ipython",
    "version": 3
   },
   "file_extension": ".py",
   "mimetype": "text/x-python",
   "name": "python",
   "nbconvert_exporter": "python",
   "pygments_lexer": "ipython3",
   "version": "3.7.9"
  }
 },
 "nbformat": 4,
 "nbformat_minor": 4
}
