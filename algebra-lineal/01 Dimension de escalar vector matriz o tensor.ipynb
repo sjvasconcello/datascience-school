{
 "cells": [
  {
   "cell_type": "code",
   "execution_count": 1,
   "metadata": {},
   "outputs": [],
   "source": [
    "import numpy as np"
   ]
  },
  {
   "cell_type": "code",
   "execution_count": 13,
   "metadata": {},
   "outputs": [],
   "source": [
    "escalar = 5.679\n",
    "vector  = np.array([1,2,3])\n",
    "matriz = np.array([[1,2],[3,4]])\n",
    "tensor = np.array([\n",
    "    [[1,2,3,10],[4,5,6,20],[6,7,8,30]],\n",
    "    [[11,12,13,40],[14,15,16,50],[17,18,19,60]],\n",
    "    [[21,22,23,70],[24,25,26,80],[27,28,29,90]]\n",
    "])"
   ]
  },
  {
   "cell_type": "code",
   "execution_count": 14,
   "metadata": {},
   "outputs": [
    {
     "name": "stdout",
     "output_type": "stream",
     "text": [
      "5.679\n"
     ]
    }
   ],
   "source": [
    "print(escalar)"
   ]
  },
  {
   "cell_type": "code",
   "execution_count": 15,
   "metadata": {},
   "outputs": [
    {
     "data": {
      "text/plain": [
       "(2, 2)"
      ]
     },
     "execution_count": 15,
     "metadata": {},
     "output_type": "execute_result"
    }
   ],
   "source": [
    "matriz.shape"
   ]
  },
  {
   "cell_type": "code",
   "execution_count": 16,
   "metadata": {},
   "outputs": [
    {
     "data": {
      "text/plain": [
       "(3, 3, 4)"
      ]
     },
     "execution_count": 16,
     "metadata": {},
     "output_type": "execute_result"
    }
   ],
   "source": [
    "tensor.shape"
   ]
  },
  {
   "cell_type": "code",
   "execution_count": 17,
   "metadata": {},
   "outputs": [
    {
     "name": "stdout",
     "output_type": "stream",
     "text": [
      "[1 2 3]\n"
     ]
    }
   ],
   "source": [
    "vector_t = vector.T\n",
    "print(vector_t)"
   ]
  },
  {
   "cell_type": "code",
   "execution_count": 18,
   "metadata": {},
   "outputs": [
    {
     "name": "stdout",
     "output_type": "stream",
     "text": [
      "[[1 3]\n",
      " [2 4]]\n"
     ]
    }
   ],
   "source": [
    "matriz_t = matriz.T\n",
    "print(matriz_t)"
   ]
  },
  {
   "cell_type": "code",
   "execution_count": 20,
   "metadata": {},
   "outputs": [
    {
     "data": {
      "text/plain": [
       "array([[[ 1, 11, 21],\n",
       "        [ 4, 14, 24],\n",
       "        [ 6, 17, 27]],\n",
       "\n",
       "       [[ 2, 12, 22],\n",
       "        [ 5, 15, 25],\n",
       "        [ 7, 18, 28]],\n",
       "\n",
       "       [[ 3, 13, 23],\n",
       "        [ 6, 16, 26],\n",
       "        [ 8, 19, 29]],\n",
       "\n",
       "       [[10, 40, 70],\n",
       "        [20, 50, 80],\n",
       "        [30, 60, 90]]])"
      ]
     },
     "execution_count": 20,
     "metadata": {},
     "output_type": "execute_result"
    }
   ],
   "source": [
    "tensor_t = tensor.T\n",
    "tensor_t"
   ]
  },
  {
   "cell_type": "code",
   "execution_count": 21,
   "metadata": {},
   "outputs": [
    {
     "data": {
      "text/plain": [
       "array([[[ 1,  2,  3, 10],\n",
       "        [ 4,  5,  6, 20],\n",
       "        [ 6,  7,  8, 30]],\n",
       "\n",
       "       [[11, 12, 13, 40],\n",
       "        [14, 15, 16, 50],\n",
       "        [17, 18, 19, 60]],\n",
       "\n",
       "       [[21, 22, 23, 70],\n",
       "        [24, 25, 26, 80],\n",
       "        [27, 28, 29, 90]]])"
      ]
     },
     "execution_count": 21,
     "metadata": {},
     "output_type": "execute_result"
    }
   ],
   "source": [
    "tensor"
   ]
  },
  {
   "cell_type": "code",
   "execution_count": 22,
   "metadata": {},
   "outputs": [],
   "source": [
    "# Video 7\n",
    "escalar = 5.679\n",
    "vector = np.array([3,4,5])\n",
    "matriz = np.array([[1,2],[3,4],[5,6]])"
   ]
  },
  {
   "cell_type": "code",
   "execution_count": 23,
   "metadata": {},
   "outputs": [],
   "source": [
    "A = matriz.T + vector"
   ]
  },
  {
   "cell_type": "code",
   "execution_count": 24,
   "metadata": {},
   "outputs": [
    {
     "data": {
      "text/plain": [
       "array([[ 4,  7, 10],\n",
       "       [ 5,  8, 11]])"
      ]
     },
     "execution_count": 24,
     "metadata": {},
     "output_type": "execute_result"
    }
   ],
   "source": [
    "A"
   ]
  }
 ],
 "metadata": {
  "kernelspec": {
   "display_name": "Python 3",
   "language": "python",
   "name": "python3"
  },
  "language_info": {
   "codemirror_mode": {
    "name": "ipython",
    "version": 3
   },
   "file_extension": ".py",
   "mimetype": "text/x-python",
   "name": "python",
   "nbconvert_exporter": "python",
   "pygments_lexer": "ipython3",
   "version": "3.7.4"
  }
 },
 "nbformat": 4,
 "nbformat_minor": 2
}
